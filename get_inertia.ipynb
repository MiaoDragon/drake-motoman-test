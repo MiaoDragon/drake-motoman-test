{
 "cells": [
  {
   "cell_type": "code",
   "execution_count": 1,
   "id": "e713104d",
   "metadata": {},
   "outputs": [],
   "source": [
    "import pymeshlab\n",
    "\n",
    "import subprocess as sb\n",
    "import os\n",
    "# p = subprocess.run(\"cp\", \"dirA/file\", \"dirB\")\n",
    "from ipywidgets import IntProgress\n",
    "from IPython.display import display"
   ]
  },
  {
   "cell_type": "code",
   "execution_count": 32,
   "id": "73e319a0",
   "metadata": {},
   "outputs": [],
   "source": [
    "# reference: https://github.com/vonunwerth/MeshLabInertiaToURDF/blob/master/main.py\n",
    "import numpy as np\n",
    "\n",
    "\n",
    "def calculate_inertial_tag(file_name=None, density=1, pr=8, scale_factor=100):\n",
    "    if 'robotiq' in file_name and 'base_link' not in file_name:\n",
    "        measure_scale = 1000\n",
    "    else:\n",
    "        measure_scale = 1\n",
    "    ms = pymeshlab.MeshSet()\n",
    "\n",
    "    if file_name is None:\n",
    "        print('Please put the input file to the same folder as this script and type in the full name of your file.')\n",
    "        file_name = input()\n",
    "    ms.load_new_mesh(file_name)\n",
    "\n",
    "#     if mass < 0:\n",
    "#         print('Please type the density of your object in kg/m^3')\n",
    "#         mass = float(input())\n",
    "\n",
    "#     geom = ms.apply_filter('Compute Geometric Measures')\n",
    "    geom = ms.get_geometric_measures()\n",
    "    com = geom['barycenter']\n",
    "    com = np.array(com) / measure_scale\n",
    "    \n",
    "    # apply the filter to remove duplicate faces\n",
    "#     ms.apply_filter('meshing_remove_duplicate_faces')\n",
    "    ms.meshing_remove_duplicate_faces()\n",
    "    \n",
    "    ms.compute_matrix_from_scaling_or_normalization(axisx=scale_factor, axisy=scale_factor, axisz=scale_factor)\n",
    "\n",
    "    ms.generate_convex_hull()  # TODO only if object is not watertight\n",
    "\n",
    "    geom = ms.get_geometric_measures()\n",
    "    volume = geom['mesh_volume']\n",
    "#     tensor = geom['inertia_tensor'] * density\n",
    "\n",
    "    tensor = geom['inertia_tensor'] / pow(scale_factor, 5) * density\n",
    "#     tensor = geom['inertia_tensor'] / pow(scale_factor, 2) * density\n",
    "    mass = density * volume / pow(scale_factor, 3)\n",
    "    \n",
    "    tensor =tensor / pow(measure_scale, 5)\n",
    "    mass = mass / pow(measure_scale, 3)\n",
    "\n",
    "    intertial_xml = f'<inertial>\\n  <origin xyz=\"{com[0]:.{pr}f} {com[1]:.{pr}f} {com[2]:.{pr}f}\"/>\\n  <mass value=\"{mass:.{pr}f}\"/>\\n  <inertia ixx=\"{tensor[0, 0]:.{pr}f}\" ixy=\"{tensor[1, 0]:.{pr}f}\" ixz=\"{tensor[2, 0]:.{pr}f}\" iyy=\"{tensor[1, 1]:.{pr}f}\" iyz=\"{tensor[1, 2]:.{pr}f}\" izz=\"{tensor[2, 2]:.{pr}f}\"/>\\n</inertial>'\n",
    "    print(intertial_xml)\n",
    "\n"
   ]
  },
  {
   "cell_type": "code",
   "execution_count": 33,
   "id": "73c80e6b",
   "metadata": {},
   "outputs": [],
   "source": [
    "def obtain_inertia(dir_name):\n",
    "    files = os.listdir(dir_name)\n",
    "    # for each file, check if it's STL, and convert only if so\n",
    "\n",
    "    f = IntProgress(min=0, max=len(files)) # instantiate the bar\n",
    "    display(f) # display the bar\n",
    "    \n",
    "    for file in files:\n",
    "        ext = file.split('.')[-1]\n",
    "        name = file.split('.')[0]\n",
    "        if ext.lower() == 'obj':\n",
    "            # convert\n",
    "            print('name: ', name)\n",
    "            calculate_inertial_tag(file_name=os.path.join(dir_name, file), density=1, pr=8, scale_factor=100)\n",
    "    "
   ]
  },
  {
   "cell_type": "code",
   "execution_count": 34,
   "id": "96618fa4",
   "metadata": {},
   "outputs": [
    {
     "data": {
      "application/vnd.jupyter.widget-view+json": {
       "model_id": "5a0bb6352c7646e9ad4ec42b76ecbfc1",
       "version_major": 2,
       "version_minor": 0
      },
      "text/plain": [
       "IntProgress(value=0, max=4)"
      ]
     },
     "metadata": {},
     "output_type": "display_data"
    },
    {
     "name": "stdout",
     "output_type": "stream",
     "text": [
      "name:  base_link\n",
      "<inertial>\n",
      "  <origin xyz=\"0.04835756 -0.00001145 -0.00005143\"/>\n",
      "  <mass value=\"0.00081386\"/>\n",
      "  <inertia ixx=\"0.00000110\" ixy=\"0.00000000\" ixz=\"0.00000000\" iyy=\"0.00000115\" iyz=\"-0.00000000\" izz=\"0.00000115\"/>\n",
      "</inertial>\n",
      "name:  suction_cup\n",
      "<inertial>\n",
      "  <origin xyz=\"0.05012417 -0.00023699 -0.00003326\"/>\n",
      "  <mass value=\"0.00005331\"/>\n",
      "  <inertia ixx=\"0.00000001\" ixy=\"0.00000000\" ixz=\"0.00000000\" iyy=\"0.00000003\" iyz=\"-0.00000000\" izz=\"0.00000003\"/>\n",
      "</inertial>\n"
     ]
    },
    {
     "data": {
      "application/vnd.jupyter.widget-view+json": {
       "model_id": "a73e7cb0f3264a05a2f26b999275ec0e",
       "version_major": 2,
       "version_minor": 0
      },
      "text/plain": [
       "IntProgress(value=0, max=12)"
      ]
     },
     "metadata": {},
     "output_type": "display_data"
    },
    {
     "name": "stdout",
     "output_type": "stream",
     "text": [
      "name:  robotiq_arg2f_85_base_link\n",
      "<inertial>\n",
      "  <origin xyz=\"0.04288860 -0.00153989 0.00016929\"/>\n",
      "  <mass value=\"0.00031045\"/>\n",
      "  <inertia ixx=\"0.00000020\" ixy=\"-0.00000000\" ixz=\"0.00000000\" iyy=\"0.00000024\" iyz=\"0.00000000\" izz=\"0.00000028\"/>\n",
      "</inertial>\n",
      "name:  robotiq_arg2f_85_outer_knuckle\n",
      "<inertial>\n",
      "  <origin xyz=\"0.00000000 0.01959428 0.00167623\"/>\n",
      "  <mass value=\"0.00001294\"/>\n",
      "  <inertia ixx=\"0.00000000\" ixy=\"0.00000000\" ixz=\"0.00000000\" iyy=\"0.00000000\" iyz=\"-0.00000000\" izz=\"0.00000000\"/>\n",
      "</inertial>\n",
      "name:  robotiq_arg2f_85_inner_knuckle\n",
      "<inertial>\n",
      "  <origin xyz=\"-0.00000000 0.02072093 0.02448419\"/>\n",
      "  <mass value=\"0.00002731\"/>\n",
      "  <inertia ixx=\"0.00000001\" ixy=\"0.00000000\" ixz=\"0.00000000\" iyy=\"0.00000001\" iyz=\"-0.00000000\" izz=\"0.00000001\"/>\n",
      "</inertial>\n",
      "name:  robotiq_arg2f_85_outer_finger\n",
      "<inertial>\n",
      "  <origin xyz=\"0.00000000 0.00303447 0.02345961\"/>\n",
      "  <mass value=\"0.00001778\"/>\n",
      "  <inertia ixx=\"0.00000001\" ixy=\"-0.00000000\" ixz=\"-0.00000000\" iyy=\"0.00000001\" iyz=\"-0.00000000\" izz=\"0.00000000\"/>\n",
      "</inertial>\n",
      "name:  robotiq_arg2f_base_link\n",
      "<inertial>\n",
      "  <origin xyz=\"0.04288860 -0.00153989 0.00016929\"/>\n",
      "  <mass value=\"0.00031045\"/>\n",
      "  <inertia ixx=\"0.00000020\" ixy=\"-0.00000000\" ixz=\"0.00000000\" iyy=\"0.00000024\" iyz=\"0.00000000\" izz=\"0.00000028\"/>\n",
      "</inertial>\n",
      "name:  robotiq_arg2f_85_inner_finger\n",
      "<inertial>\n",
      "  <origin xyz=\"0.00000000 -0.00782782 0.00265781\"/>\n",
      "  <mass value=\"0.00001319\"/>\n",
      "  <inertia ixx=\"0.00000000\" ixy=\"0.00000000\" ixz=\"-0.00000000\" iyy=\"0.00000000\" iyz=\"0.00000000\" izz=\"0.00000000\"/>\n",
      "</inertial>\n"
     ]
    },
    {
     "data": {
      "application/vnd.jupyter.widget-view+json": {
       "model_id": "d4899fe44c4648e1b48d7c807096edd6",
       "version_major": 2,
       "version_minor": 0
      },
      "text/plain": [
       "IntProgress(value=0, max=35)"
      ]
     },
     "metadata": {},
     "output_type": "display_data"
    },
    {
     "name": "stdout",
     "output_type": "stream",
     "text": [
      "name:  motoman_axis_b1_remeshed\n",
      "<inertial>\n",
      "  <origin xyz=\"0.29769593 -0.00048507 0.07556016\"/>\n",
      "  <mass value=\"0.02557033\"/>\n",
      "  <inertia ixx=\"0.00027808\" ixy=\"-0.00000000\" ixz=\"-0.00009991\" iyy=\"0.00050765\" iyz=\"0.00000000\" izz=\"0.00047731\"/>\n",
      "</inertial>\n",
      "name:  baxter_suction2\n",
      "<inertial>\n",
      "  <origin xyz=\"0.03122749 0.00233125 -0.00130293\"/>\n",
      "  <mass value=\"0.00015032\"/>\n",
      "  <inertia ixx=\"0.00000007\" ixy=\"0.00000000\" ixz=\"-0.00000000\" iyy=\"0.00000008\" iyz=\"-0.00000000\" izz=\"0.00000007\"/>\n",
      "</inertial>\n",
      "name:  motoman_axis_u\n",
      "<inertial>\n",
      "  <origin xyz=\"-0.01491214 0.04719666 -0.00082991\"/>\n",
      "  <mass value=\"0.00301532\"/>\n",
      "  <inertia ixx=\"0.00002075\" ixy=\"-0.00000241\" ixz=\"0.00000001\" iyy=\"0.00000557\" iyz=\"-0.00000003\" izz=\"0.00002043\"/>\n",
      "</inertial>\n",
      "name:  motoman_axis_s\n",
      "<inertial>\n",
      "  <origin xyz=\"-0.19899234 -0.05062831 -0.00088638\"/>\n",
      "  <mass value=\"0.00736469\"/>\n",
      "  <inertia ixx=\"0.00002919\" ixy=\"-0.00000467\" ixz=\"-0.00000000\" iyy=\"0.00006572\" iyz=\"0.00000002\" izz=\"0.00006631\"/>\n",
      "</inertial>\n",
      "name:  motoman_axis_b\n",
      "<inertial>\n",
      "  <origin xyz=\"0.01254451 0.02357485 -0.00200508\"/>\n",
      "  <mass value=\"0.00182883\"/>\n",
      "  <inertia ixx=\"0.00000703\" ixy=\"0.00000103\" ixz=\"0.00000000\" iyy=\"0.00000281\" iyz=\"-0.00000000\" izz=\"0.00000709\"/>\n",
      "</inertial>\n",
      "name:  motoman_axis_b_remeshed\n",
      "<inertial>\n",
      "  <origin xyz=\"0.01254451 0.02357485 -0.00200508\"/>\n",
      "  <mass value=\"0.00182883\"/>\n",
      "  <inertia ixx=\"0.00000703\" ixy=\"0.00000103\" ixz=\"0.00000000\" iyy=\"0.00000281\" iyz=\"-0.00000000\" izz=\"0.00000709\"/>\n",
      "</inertial>\n",
      "name:  vacuum_gripper_no_mouth\n",
      "<inertial>\n",
      "  <origin xyz=\"0.28065182 -0.00001911 -0.00003222\"/>\n",
      "  <mass value=\"0.00179498\"/>\n",
      "  <inertia ixx=\"0.00000275\" ixy=\"0.00000006\" ixz=\"0.00000006\" iyy=\"0.00000994\" iyz=\"-0.00000053\" izz=\"0.00000988\"/>\n",
      "</inertial>\n",
      "name:  motoman_base\n",
      "<inertial>\n",
      "  <origin xyz=\"0.59411730 0.00220938 0.06245062\"/>\n",
      "  <mass value=\"0.11690470\"/>\n",
      "  <inertia ixx=\"0.00301106\" ixy=\"-0.00000002\" ixz=\"-0.00069198\" iyy=\"0.00812166\" iyz=\"0.00000006\" izz=\"0.00804492\"/>\n",
      "</inertial>\n",
      "name:  vacuum_gripper\n",
      "<inertial>\n",
      "  <origin xyz=\"0.28125861 -0.00002300 -0.00003597\"/>\n",
      "  <mass value=\"0.00213905\"/>\n",
      "  <inertia ixx=\"0.00000322\" ixy=\"0.00000010\" ixz=\"0.00000007\" iyy=\"0.00001627\" iyz=\"-0.00000061\" izz=\"0.00001619\"/>\n",
      "</inertial>\n",
      "name:  motoman_axis_l\n",
      "<inertial>\n",
      "  <origin xyz=\"0.00687143 0.01345170 0.00026218\"/>\n",
      "  <mass value=\"0.00447593\"/>\n",
      "  <inertia ixx=\"0.00003199\" ixy=\"0.00000585\" ixz=\"-0.00000000\" iyy=\"0.00001378\" iyz=\"0.00000000\" izz=\"0.00003068\"/>\n",
      "</inertial>\n",
      "name:  motoman_axis_t\n",
      "<inertial>\n",
      "  <origin xyz=\"-0.00587066 -0.00021341 -0.00046883\"/>\n",
      "  <mass value=\"0.00006113\"/>\n",
      "  <inertia ixx=\"0.00000005\" ixy=\"-0.00000000\" ixz=\"-0.00000000\" iyy=\"0.00000002\" iyz=\"0.00000000\" izz=\"0.00000002\"/>\n",
      "</inertial>\n",
      "name:  motoman_axis_b1\n",
      "<inertial>\n",
      "  <origin xyz=\"0.29769593 -0.00048507 0.07556016\"/>\n",
      "  <mass value=\"0.02557033\"/>\n",
      "  <inertia ixx=\"0.00027808\" ixy=\"-0.00000000\" ixz=\"-0.00009991\" iyy=\"0.00050765\" iyz=\"0.00000000\" izz=\"0.00047731\"/>\n",
      "</inertial>\n",
      "name:  baxter_suction\n",
      "<inertial>\n",
      "  <origin xyz=\"0.07622749 0.00233125 -0.00130293\"/>\n",
      "  <mass value=\"0.00015032\"/>\n",
      "  <inertia ixx=\"0.00000007\" ixy=\"0.00000000\" ixz=\"-0.00000000\" iyy=\"0.00000008\" iyz=\"-0.00000000\" izz=\"0.00000007\"/>\n",
      "</inertial>\n",
      "name:  motoman_axis_r\n",
      "<inertial>\n",
      "  <origin xyz=\"-0.11762401 -0.03128507 -0.00026296\"/>\n",
      "  <mass value=\"0.00213955\"/>\n",
      "  <inertia ixx=\"0.00000371\" ixy=\"-0.00000072\" ixz=\"-0.00000002\" iyy=\"0.00000856\" iyz=\"-0.00000001\" izz=\"0.00000873\"/>\n",
      "</inertial>\n",
      "name:  baxter_suction1\n",
      "<inertial>\n",
      "  <origin xyz=\"-0.02377251 0.00233125 -0.00130293\"/>\n",
      "  <mass value=\"0.00015032\"/>\n",
      "  <inertia ixx=\"0.00000007\" ixy=\"0.00000000\" ixz=\"-0.00000000\" iyy=\"0.00000008\" iyz=\"-0.00000000\" izz=\"0.00000007\"/>\n",
      "</inertial>\n",
      "name:  modelO42\n",
      "<inertial>\n",
      "  <origin xyz=\"0.12333333 0.02833333 -0.00000000\"/>\n",
      "  <mass value=\"0.00246833\"/>\n",
      "  <inertia ixx=\"0.00000546\" ixy=\"-0.00000149\" ixz=\"-0.00000000\" iyy=\"0.00001071\" iyz=\"0.00000000\" izz=\"0.00001136\"/>\n",
      "</inertial>\n",
      "name:  motoman_axis_e\n",
      "<inertial>\n",
      "  <origin xyz=\"-0.14699799 0.03928457 -0.00115009\"/>\n",
      "  <mass value=\"0.00344203\"/>\n",
      "  <inertia ixx=\"0.00000816\" ixy=\"0.00000154\" ixz=\"-0.00000000\" iyy=\"0.00001912\" iyz=\"0.00000000\" izz=\"0.00001927\"/>\n",
      "</inertial>\n"
     ]
    }
   ],
   "source": [
    "base_dir_name = '/home/yinglong/Documents/research/task_motion_planning/infrastructure/motoman_ws/src/pracsys-motoman/motoman/motoman_config/updated_obj_urdf'\n",
    "for name1 in ['onrobot_vgc10', 'robotiq_85', 'sda10f_description/meshes/sda10f']:\n",
    "    for name2 in ['collision']:\n",
    "        dir_name = os.path.join(base_dir_name, name1, name2)\n",
    "        obtain_inertia(dir_name)\n"
   ]
  },
  {
   "cell_type": "code",
   "execution_count": null,
   "id": "dade4a00",
   "metadata": {},
   "outputs": [],
   "source": [
    "ms = pymeshlab.MeshSet()\n",
    "print(pymeshlab.print_filter_list())"
   ]
  },
  {
   "cell_type": "code",
   "execution_count": null,
   "id": "fd2b4ddd",
   "metadata": {},
   "outputs": [],
   "source": []
  }
 ],
 "metadata": {
  "kernelspec": {
   "display_name": "Python 3",
   "language": "python",
   "name": "python3"
  },
  "language_info": {
   "codemirror_mode": {
    "name": "ipython",
    "version": 3
   },
   "file_extension": ".py",
   "mimetype": "text/x-python",
   "name": "python",
   "nbconvert_exporter": "python",
   "pygments_lexer": "ipython3",
   "version": "3.8.10"
  }
 },
 "nbformat": 4,
 "nbformat_minor": 5
}
