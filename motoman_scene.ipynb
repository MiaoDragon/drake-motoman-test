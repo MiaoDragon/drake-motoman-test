{
 "cells": [
  {
   "cell_type": "code",
   "execution_count": 1,
   "id": "399d56e1",
   "metadata": {},
   "outputs": [],
   "source": [
    "# reference: authoring_multibody_simulation.ipynb\n",
    "\n",
    "# Import some basic libraries and functions for this tutorial.\n",
    "import numpy as np\n",
    "import os\n",
    "\n",
    "from pydrake.common import FindResourceOrThrow, temp_directory\n",
    "from pydrake.geometry import (\n",
    "    MeshcatVisualizer,\n",
    "    MeshcatVisualizerParams,\n",
    "    Role,\n",
    "    StartMeshcat,\n",
    ")\n",
    "from pydrake.math import RigidTransform, RollPitchYaw, RotationMatrix\n",
    "from pydrake.multibody.parsing import Parser\n",
    "from pydrake.multibody.plant import AddMultibodyPlantSceneGraph, MultibodyPlant\n",
    "from pydrake.systems.analysis import Simulator\n",
    "from pydrake.systems.framework import DiagramBuilder\n",
    "from pydrake.visualization import ModelVisualizer\n"
   ]
  },
  {
   "cell_type": "code",
   "execution_count": 2,
   "id": "cba8839c",
   "metadata": {},
   "outputs": [
    {
     "name": "stderr",
     "output_type": "stream",
     "text": [
      "INFO:drake:Meshcat listening for connections at http://localhost:7000\n"
     ]
    }
   ],
   "source": [
    "# Start the visualizer. The cell will output an HTTP link after the execution.\n",
    "# Click the link and a MeshCat tab should appear in your browser.\n",
    "meshcat = StartMeshcat()"
   ]
  },
  {
   "cell_type": "code",
   "execution_count": 3,
   "id": "6fdceab5",
   "metadata": {},
   "outputs": [
    {
     "name": "stderr",
     "output_type": "stream",
     "text": [
      "WARNING:drake:/home/yinglong/Documents/research/task_motion_planning/infrastructure/motoman_ws/src/pracsys-motoman/motoman/motoman_config/updated_obj_urdf/motoman_dual.urdf:20: warning: In URI 'package://motoman_config/updated_obj_urdf/sda10f_description/meshes/sda10f/visual/motoman_base.obj': Package \"motoman_config\" is deprecated: This package will be removed in ROS Indigo.  The configuration data included in this package can now be found in the various support packages (i.e. motoman_[model]_support)\n",
      "WARNING:drake:/home/yinglong/Documents/research/task_motion_planning/infrastructure/motoman_ws/src/pracsys-motoman/motoman/motoman_config/updated_obj_urdf/motoman_dual.urdf:28: warning: In URI 'package://motoman_config/updated_obj_urdf/sda10f_description/meshes/sda10f/collision/motoman_base.obj': Package \"motoman_config\" is deprecated: This package will be removed in ROS Indigo.  The configuration data included in this package can now be found in the various support packages (i.e. motoman_[model]_support)\n",
      "WARNING:drake:/home/yinglong/Documents/research/task_motion_planning/infrastructure/motoman_ws/src/pracsys-motoman/motoman/motoman_config/updated_obj_urdf/motoman_dual.urdf:58: warning: In URI 'package://motoman_config/updated_obj_urdf/sda10f_description/meshes/sda10f/visual/motoman_axis_b1.obj': Package \"motoman_config\" is deprecated: This package will be removed in ROS Indigo.  The configuration data included in this package can now be found in the various support packages (i.e. motoman_[model]_support)\n",
      "WARNING:drake:/home/yinglong/Documents/research/task_motion_planning/infrastructure/motoman_ws/src/pracsys-motoman/motoman/motoman_config/updated_obj_urdf/motoman_dual.urdf:67: warning: In URI 'package://motoman_config/updated_obj_urdf/sda10f_description/meshes/sda10f/collision/motoman_axis_b1_remeshed.obj': Package \"motoman_config\" is deprecated: This package will be removed in ROS Indigo.  The configuration data included in this package can now be found in the various support packages (i.e. motoman_[model]_support)\n",
      "WARNING:drake:/home/yinglong/Documents/research/task_motion_planning/infrastructure/motoman_ws/src/pracsys-motoman/motoman/motoman_config/updated_obj_urdf/motoman_dual.urdf:83: warning: In URI 'package://motoman_config/updated_obj_urdf/sda10f_description/meshes/sda10f/visual/motoman_axis_s.obj': Package \"motoman_config\" is deprecated: This package will be removed in ROS Indigo.  The configuration data included in this package can now be found in the various support packages (i.e. motoman_[model]_support)\n",
      "WARNING:drake:/home/yinglong/Documents/research/task_motion_planning/infrastructure/motoman_ws/src/pracsys-motoman/motoman/motoman_config/updated_obj_urdf/motoman_dual.urdf:94: warning: In URI 'package://motoman_config/updated_obj_urdf/sda10f_description/meshes/sda10f/collision/motoman_axis_s.obj': Package \"motoman_config\" is deprecated: This package will be removed in ROS Indigo.  The configuration data included in this package can now be found in the various support packages (i.e. motoman_[model]_support)\n",
      "WARNING:drake:/home/yinglong/Documents/research/task_motion_planning/infrastructure/motoman_ws/src/pracsys-motoman/motoman/motoman_config/updated_obj_urdf/motoman_dual.urdf:109: warning: In URI 'package://motoman_config/updated_obj_urdf/sda10f_description/meshes/sda10f/visual/motoman_axis_l.obj': Package \"motoman_config\" is deprecated: This package will be removed in ROS Indigo.  The configuration data included in this package can now be found in the various support packages (i.e. motoman_[model]_support)\n",
      "WARNING:drake:/home/yinglong/Documents/research/task_motion_planning/infrastructure/motoman_ws/src/pracsys-motoman/motoman/motoman_config/updated_obj_urdf/motoman_dual.urdf:117: warning: In URI 'package://motoman_config/updated_obj_urdf/sda10f_description/meshes/sda10f/collision/motoman_axis_l.obj': Package \"motoman_config\" is deprecated: This package will be removed in ROS Indigo.  The configuration data included in this package can now be found in the various support packages (i.e. motoman_[model]_support)\n",
      "WARNING:drake:/home/yinglong/Documents/research/task_motion_planning/infrastructure/motoman_ws/src/pracsys-motoman/motoman/motoman_config/updated_obj_urdf/motoman_dual.urdf:132: warning: In URI 'package://motoman_config/updated_obj_urdf/sda10f_description/meshes/sda10f/visual/motoman_axis_e.obj': Package \"motoman_config\" is deprecated: This package will be removed in ROS Indigo.  The configuration data included in this package can now be found in the various support packages (i.e. motoman_[model]_support)\n",
      "WARNING:drake:/home/yinglong/Documents/research/task_motion_planning/infrastructure/motoman_ws/src/pracsys-motoman/motoman/motoman_config/updated_obj_urdf/motoman_dual.urdf:140: warning: In URI 'package://motoman_config/updated_obj_urdf/sda10f_description/meshes/sda10f/collision/motoman_axis_e.obj': Package \"motoman_config\" is deprecated: This package will be removed in ROS Indigo.  The configuration data included in this package can now be found in the various support packages (i.e. motoman_[model]_support)\n",
      "WARNING:drake:/home/yinglong/Documents/research/task_motion_planning/infrastructure/motoman_ws/src/pracsys-motoman/motoman/motoman_config/updated_obj_urdf/motoman_dual.urdf:155: warning: In URI 'package://motoman_config/updated_obj_urdf/sda10f_description/meshes/sda10f/visual/motoman_axis_u.obj': Package \"motoman_config\" is deprecated: This package will be removed in ROS Indigo.  The configuration data included in this package can now be found in the various support packages (i.e. motoman_[model]_support)\n",
      "WARNING:drake:/home/yinglong/Documents/research/task_motion_planning/infrastructure/motoman_ws/src/pracsys-motoman/motoman/motoman_config/updated_obj_urdf/motoman_dual.urdf:163: warning: In URI 'package://motoman_config/updated_obj_urdf/sda10f_description/meshes/sda10f/collision/motoman_axis_u.obj': Package \"motoman_config\" is deprecated: This package will be removed in ROS Indigo.  The configuration data included in this package can now be found in the various support packages (i.e. motoman_[model]_support)\n",
      "WARNING:drake:/home/yinglong/Documents/research/task_motion_planning/infrastructure/motoman_ws/src/pracsys-motoman/motoman/motoman_config/updated_obj_urdf/motoman_dual.urdf:178: warning: In URI 'package://motoman_config/updated_obj_urdf/sda10f_description/meshes/sda10f/visual/motoman_axis_r.obj': Package \"motoman_config\" is deprecated: This package will be removed in ROS Indigo.  The configuration data included in this package can now be found in the various support packages (i.e. motoman_[model]_support)\n",
      "WARNING:drake:/home/yinglong/Documents/research/task_motion_planning/infrastructure/motoman_ws/src/pracsys-motoman/motoman/motoman_config/updated_obj_urdf/motoman_dual.urdf:186: warning: In URI 'package://motoman_config/updated_obj_urdf/sda10f_description/meshes/sda10f/collision/motoman_axis_r.obj': Package \"motoman_config\" is deprecated: This package will be removed in ROS Indigo.  The configuration data included in this package can now be found in the various support packages (i.e. motoman_[model]_support)\n",
      "WARNING:drake:/home/yinglong/Documents/research/task_motion_planning/infrastructure/motoman_ws/src/pracsys-motoman/motoman/motoman_config/updated_obj_urdf/motoman_dual.urdf:201: warning: In URI 'package://motoman_config/updated_obj_urdf/sda10f_description/meshes/sda10f/visual/motoman_axis_b.obj': Package \"motoman_config\" is deprecated: This package will be removed in ROS Indigo.  The configuration data included in this package can now be found in the various support packages (i.e. motoman_[model]_support)\n",
      "WARNING:drake:/home/yinglong/Documents/research/task_motion_planning/infrastructure/motoman_ws/src/pracsys-motoman/motoman/motoman_config/updated_obj_urdf/motoman_dual.urdf:209: warning: In URI 'package://motoman_config/updated_obj_urdf/sda10f_description/meshes/sda10f/collision/motoman_axis_b_remeshed.obj': Package \"motoman_config\" is deprecated: This package will be removed in ROS Indigo.  The configuration data included in this package can now be found in the various support packages (i.e. motoman_[model]_support)\n"
     ]
    },
    {
     "name": "stderr",
     "output_type": "stream",
     "text": [
      "WARNING:drake:/home/yinglong/Documents/research/task_motion_planning/infrastructure/motoman_ws/src/pracsys-motoman/motoman/motoman_config/updated_obj_urdf/motoman_dual.urdf:223: warning: In URI 'package://motoman_config/updated_obj_urdf/sda10f_description/meshes/sda10f/visual/motoman_axis_t.obj': Package \"motoman_config\" is deprecated: This package will be removed in ROS Indigo.  The configuration data included in this package can now be found in the various support packages (i.e. motoman_[model]_support)\n",
      "WARNING:drake:/home/yinglong/Documents/research/task_motion_planning/infrastructure/motoman_ws/src/pracsys-motoman/motoman/motoman_config/updated_obj_urdf/motoman_dual.urdf:230: warning: In URI 'package://motoman_config/updated_obj_urdf/sda10f_description/meshes/sda10f/collision/motoman_axis_t.obj': Package \"motoman_config\" is deprecated: This package will be removed in ROS Indigo.  The configuration data included in this package can now be found in the various support packages (i.e. motoman_[model]_support)\n",
      "WARNING:drake:/home/yinglong/Documents/research/task_motion_planning/infrastructure/motoman_ws/src/pracsys-motoman/motoman/motoman_config/updated_obj_urdf/motoman_dual.urdf:311: warning: In URI 'package://motoman_config/updated_obj_urdf/sda10f_description/meshes/sda10f/visual/motoman_axis_s.obj': Package \"motoman_config\" is deprecated: This package will be removed in ROS Indigo.  The configuration data included in this package can now be found in the various support packages (i.e. motoman_[model]_support)\n",
      "WARNING:drake:/home/yinglong/Documents/research/task_motion_planning/infrastructure/motoman_ws/src/pracsys-motoman/motoman/motoman_config/updated_obj_urdf/motoman_dual.urdf:321: warning: In URI 'package://motoman_config/updated_obj_urdf/sda10f_description/meshes/sda10f/collision/motoman_axis_s.obj': Package \"motoman_config\" is deprecated: This package will be removed in ROS Indigo.  The configuration data included in this package can now be found in the various support packages (i.e. motoman_[model]_support)\n",
      "WARNING:drake:/home/yinglong/Documents/research/task_motion_planning/infrastructure/motoman_ws/src/pracsys-motoman/motoman/motoman_config/updated_obj_urdf/motoman_dual.urdf:336: warning: In URI 'package://motoman_config/updated_obj_urdf/sda10f_description/meshes/sda10f/visual/motoman_axis_l.obj': Package \"motoman_config\" is deprecated: This package will be removed in ROS Indigo.  The configuration data included in this package can now be found in the various support packages (i.e. motoman_[model]_support)\n",
      "WARNING:drake:/home/yinglong/Documents/research/task_motion_planning/infrastructure/motoman_ws/src/pracsys-motoman/motoman/motoman_config/updated_obj_urdf/motoman_dual.urdf:344: warning: In URI 'package://motoman_config/updated_obj_urdf/sda10f_description/meshes/sda10f/collision/motoman_axis_l.obj': Package \"motoman_config\" is deprecated: This package will be removed in ROS Indigo.  The configuration data included in this package can now be found in the various support packages (i.e. motoman_[model]_support)\n",
      "WARNING:drake:/home/yinglong/Documents/research/task_motion_planning/infrastructure/motoman_ws/src/pracsys-motoman/motoman/motoman_config/updated_obj_urdf/motoman_dual.urdf:359: warning: In URI 'package://motoman_config/updated_obj_urdf/sda10f_description/meshes/sda10f/visual/motoman_axis_e.obj': Package \"motoman_config\" is deprecated: This package will be removed in ROS Indigo.  The configuration data included in this package can now be found in the various support packages (i.e. motoman_[model]_support)\n",
      "WARNING:drake:/home/yinglong/Documents/research/task_motion_planning/infrastructure/motoman_ws/src/pracsys-motoman/motoman/motoman_config/updated_obj_urdf/motoman_dual.urdf:367: warning: In URI 'package://motoman_config/updated_obj_urdf/sda10f_description/meshes/sda10f/collision/motoman_axis_e.obj': Package \"motoman_config\" is deprecated: This package will be removed in ROS Indigo.  The configuration data included in this package can now be found in the various support packages (i.e. motoman_[model]_support)\n",
      "WARNING:drake:/home/yinglong/Documents/research/task_motion_planning/infrastructure/motoman_ws/src/pracsys-motoman/motoman/motoman_config/updated_obj_urdf/motoman_dual.urdf:382: warning: In URI 'package://motoman_config/updated_obj_urdf/sda10f_description/meshes/sda10f/visual/motoman_axis_u.obj': Package \"motoman_config\" is deprecated: This package will be removed in ROS Indigo.  The configuration data included in this package can now be found in the various support packages (i.e. motoman_[model]_support)\n",
      "WARNING:drake:/home/yinglong/Documents/research/task_motion_planning/infrastructure/motoman_ws/src/pracsys-motoman/motoman/motoman_config/updated_obj_urdf/motoman_dual.urdf:390: warning: In URI 'package://motoman_config/updated_obj_urdf/sda10f_description/meshes/sda10f/collision/motoman_axis_u.obj': Package \"motoman_config\" is deprecated: This package will be removed in ROS Indigo.  The configuration data included in this package can now be found in the various support packages (i.e. motoman_[model]_support)\n",
      "WARNING:drake:/home/yinglong/Documents/research/task_motion_planning/infrastructure/motoman_ws/src/pracsys-motoman/motoman/motoman_config/updated_obj_urdf/motoman_dual.urdf:405: warning: In URI 'package://motoman_config/updated_obj_urdf/sda10f_description/meshes/sda10f/visual/motoman_axis_r.obj': Package \"motoman_config\" is deprecated: This package will be removed in ROS Indigo.  The configuration data included in this package can now be found in the various support packages (i.e. motoman_[model]_support)\n",
      "WARNING:drake:/home/yinglong/Documents/research/task_motion_planning/infrastructure/motoman_ws/src/pracsys-motoman/motoman/motoman_config/updated_obj_urdf/motoman_dual.urdf:413: warning: In URI 'package://motoman_config/updated_obj_urdf/sda10f_description/meshes/sda10f/collision/motoman_axis_r.obj': Package \"motoman_config\" is deprecated: This package will be removed in ROS Indigo.  The configuration data included in this package can now be found in the various support packages (i.e. motoman_[model]_support)\n",
      "WARNING:drake:/home/yinglong/Documents/research/task_motion_planning/infrastructure/motoman_ws/src/pracsys-motoman/motoman/motoman_config/updated_obj_urdf/motoman_dual.urdf:428: warning: In URI 'package://motoman_config/updated_obj_urdf/sda10f_description/meshes/sda10f/visual/motoman_axis_b.obj': Package \"motoman_config\" is deprecated: This package will be removed in ROS Indigo.  The configuration data included in this package can now be found in the various support packages (i.e. motoman_[model]_support)\n",
      "WARNING:drake:/home/yinglong/Documents/research/task_motion_planning/infrastructure/motoman_ws/src/pracsys-motoman/motoman/motoman_config/updated_obj_urdf/motoman_dual.urdf:436: warning: In URI 'package://motoman_config/updated_obj_urdf/sda10f_description/meshes/sda10f/collision/motoman_axis_b_remeshed.obj': Package \"motoman_config\" is deprecated: This package will be removed in ROS Indigo.  The configuration data included in this package can now be found in the various support packages (i.e. motoman_[model]_support)\n",
      "WARNING:drake:/home/yinglong/Documents/research/task_motion_planning/infrastructure/motoman_ws/src/pracsys-motoman/motoman/motoman_config/updated_obj_urdf/motoman_dual.urdf:450: warning: In URI 'package://motoman_config/updated_obj_urdf/sda10f_description/meshes/sda10f/visual/motoman_axis_t.obj': Package \"motoman_config\" is deprecated: This package will be removed in ROS Indigo.  The configuration data included in this package can now be found in the various support packages (i.e. motoman_[model]_support)\n",
      "WARNING:drake:/home/yinglong/Documents/research/task_motion_planning/infrastructure/motoman_ws/src/pracsys-motoman/motoman/motoman_config/updated_obj_urdf/motoman_dual.urdf:457: warning: In URI 'package://motoman_config/updated_obj_urdf/sda10f_description/meshes/sda10f/collision/motoman_axis_t.obj': Package \"motoman_config\" is deprecated: This package will be removed in ROS Indigo.  The configuration data included in this package can now be found in the various support packages (i.e. motoman_[model]_support)\n"
     ]
    },
    {
     "name": "stderr",
     "output_type": "stream",
     "text": [
      "WARNING:drake:/home/yinglong/Documents/research/task_motion_planning/infrastructure/motoman_ws/src/pracsys-motoman/motoman/motoman_config/updated_obj_urdf/motoman_dual.urdf:544: warning: In URI 'package://motoman_config/updated_obj_urdf/onrobot_vgc10/visual/base_link.obj': Package \"motoman_config\" is deprecated: This package will be removed in ROS Indigo.  The configuration data included in this package can now be found in the various support packages (i.e. motoman_[model]_support)\n",
      "WARNING:drake:/home/yinglong/Documents/research/task_motion_planning/infrastructure/motoman_ws/src/pracsys-motoman/motoman/motoman_config/updated_obj_urdf/motoman_dual.urdf:553: warning: In URI 'package://motoman_config/updated_obj_urdf/onrobot_vgc10/collision/base_link.obj': Package \"motoman_config\" is deprecated: This package will be removed in ROS Indigo.  The configuration data included in this package can now be found in the various support packages (i.e. motoman_[model]_support)\n",
      "WARNING:drake:/home/yinglong/Documents/research/task_motion_planning/infrastructure/motoman_ws/src/pracsys-motoman/motoman/motoman_config/updated_obj_urdf/motoman_dual.urdf:572: warning: In URI 'package://motoman_config/updated_obj_urdf/onrobot_vgc10/visual/suction_cup.obj': Package \"motoman_config\" is deprecated: This package will be removed in ROS Indigo.  The configuration data included in this package can now be found in the various support packages (i.e. motoman_[model]_support)\n",
      "WARNING:drake:/home/yinglong/Documents/research/task_motion_planning/infrastructure/motoman_ws/src/pracsys-motoman/motoman/motoman_config/updated_obj_urdf/motoman_dual.urdf:581: warning: In URI 'package://motoman_config/updated_obj_urdf/onrobot_vgc10/collision/suction_cup.obj': Package \"motoman_config\" is deprecated: This package will be removed in ROS Indigo.  The configuration data included in this package can now be found in the various support packages (i.e. motoman_[model]_support)\n",
      "WARNING:drake:/home/yinglong/Documents/research/task_motion_planning/infrastructure/motoman_ws/src/pracsys-motoman/motoman/motoman_config/updated_obj_urdf/motoman_dual.urdf:654: warning: In URI 'package://motoman_config/updated_obj_urdf/robotiq_85/visual/robotiq_arg2f_85_base_link.obj': Package \"motoman_config\" is deprecated: This package will be removed in ROS Indigo.  The configuration data included in this package can now be found in the various support packages (i.e. motoman_[model]_support)\n",
      "WARNING:drake:/home/yinglong/Documents/research/task_motion_planning/infrastructure/motoman_ws/src/pracsys-motoman/motoman/motoman_config/updated_obj_urdf/motoman_dual.urdf:663: warning: In URI 'package://motoman_config/updated_obj_urdf/robotiq_85/collision/robotiq_arg2f_base_link.obj': Package \"motoman_config\" is deprecated: This package will be removed in ROS Indigo.  The configuration data included in this package can now be found in the various support packages (i.e. motoman_[model]_support)\n",
      "WARNING:drake:/home/yinglong/Documents/research/task_motion_planning/infrastructure/motoman_ws/src/pracsys-motoman/motoman/motoman_config/updated_obj_urdf/motoman_dual.urdf:681: warning: In URI 'package://motoman_config/updated_obj_urdf/robotiq_85/visual/robotiq_arg2f_85_outer_knuckle.obj': Package \"motoman_config\" is deprecated: This package will be removed in ROS Indigo.  The configuration data included in this package can now be found in the various support packages (i.e. motoman_[model]_support)\n",
      "WARNING:drake:/home/yinglong/Documents/research/task_motion_planning/infrastructure/motoman_ws/src/pracsys-motoman/motoman/motoman_config/updated_obj_urdf/motoman_dual.urdf:690: warning: In URI 'package://motoman_config/updated_obj_urdf/robotiq_85/collision/robotiq_arg2f_85_outer_knuckle.obj': Package \"motoman_config\" is deprecated: This package will be removed in ROS Indigo.  The configuration data included in this package can now be found in the various support packages (i.e. motoman_[model]_support)\n",
      "WARNING:drake:/home/yinglong/Documents/research/task_motion_planning/infrastructure/motoman_ws/src/pracsys-motoman/motoman/motoman_config/updated_obj_urdf/motoman_dual.urdf:708: warning: In URI 'package://motoman_config/updated_obj_urdf/robotiq_85/visual/robotiq_arg2f_85_outer_finger.obj': Package \"motoman_config\" is deprecated: This package will be removed in ROS Indigo.  The configuration data included in this package can now be found in the various support packages (i.e. motoman_[model]_support)\n",
      "WARNING:drake:/home/yinglong/Documents/research/task_motion_planning/infrastructure/motoman_ws/src/pracsys-motoman/motoman/motoman_config/updated_obj_urdf/motoman_dual.urdf:717: warning: In URI 'package://motoman_config/updated_obj_urdf/robotiq_85/collision/robotiq_arg2f_85_outer_finger.obj': Package \"motoman_config\" is deprecated: This package will be removed in ROS Indigo.  The configuration data included in this package can now be found in the various support packages (i.e. motoman_[model]_support)\n",
      "WARNING:drake:/home/yinglong/Documents/research/task_motion_planning/infrastructure/motoman_ws/src/pracsys-motoman/motoman/motoman_config/updated_obj_urdf/motoman_dual.urdf:735: warning: In URI 'package://motoman_config/updated_obj_urdf/robotiq_85/visual/robotiq_arg2f_85_inner_finger.obj': Package \"motoman_config\" is deprecated: This package will be removed in ROS Indigo.  The configuration data included in this package can now be found in the various support packages (i.e. motoman_[model]_support)\n",
      "WARNING:drake:/home/yinglong/Documents/research/task_motion_planning/infrastructure/motoman_ws/src/pracsys-motoman/motoman/motoman_config/updated_obj_urdf/motoman_dual.urdf:744: warning: In URI 'package://motoman_config/updated_obj_urdf/robotiq_85/collision/robotiq_arg2f_85_inner_finger.obj': Package \"motoman_config\" is deprecated: This package will be removed in ROS Indigo.  The configuration data included in this package can now be found in the various support packages (i.e. motoman_[model]_support)\n",
      "WARNING:drake:/home/yinglong/Documents/research/task_motion_planning/infrastructure/motoman_ws/src/pracsys-motoman/motoman/motoman_config/updated_obj_urdf/motoman_dual.urdf:786: warning: In URI 'package://motoman_config/updated_obj_urdf/robotiq_85/visual/robotiq_arg2f_85_inner_knuckle.obj': Package \"motoman_config\" is deprecated: This package will be removed in ROS Indigo.  The configuration data included in this package can now be found in the various support packages (i.e. motoman_[model]_support)\n",
      "WARNING:drake:/home/yinglong/Documents/research/task_motion_planning/infrastructure/motoman_ws/src/pracsys-motoman/motoman/motoman_config/updated_obj_urdf/motoman_dual.urdf:795: warning: In URI 'package://motoman_config/updated_obj_urdf/robotiq_85/collision/robotiq_arg2f_85_inner_knuckle.obj': Package \"motoman_config\" is deprecated: This package will be removed in ROS Indigo.  The configuration data included in this package can now be found in the various support packages (i.e. motoman_[model]_support)\n",
      "WARNING:drake:/home/yinglong/Documents/research/task_motion_planning/infrastructure/motoman_ws/src/pracsys-motoman/motoman/motoman_config/updated_obj_urdf/motoman_dual.urdf:817: warning: In URI 'package://motoman_config/updated_obj_urdf/robotiq_85/visual/robotiq_arg2f_85_outer_knuckle.obj': Package \"motoman_config\" is deprecated: This package will be removed in ROS Indigo.  The configuration data included in this package can now be found in the various support packages (i.e. motoman_[model]_support)\n",
      "WARNING:drake:/home/yinglong/Documents/research/task_motion_planning/infrastructure/motoman_ws/src/pracsys-motoman/motoman/motoman_config/updated_obj_urdf/motoman_dual.urdf:826: warning: In URI 'package://motoman_config/updated_obj_urdf/robotiq_85/collision/robotiq_arg2f_85_outer_knuckle.obj': Package \"motoman_config\" is deprecated: This package will be removed in ROS Indigo.  The configuration data included in this package can now be found in the various support packages (i.e. motoman_[model]_support)\n",
      "WARNING:drake:/home/yinglong/Documents/research/task_motion_planning/infrastructure/motoman_ws/src/pracsys-motoman/motoman/motoman_config/updated_obj_urdf/motoman_dual.urdf:848: warning: In URI 'package://motoman_config/updated_obj_urdf/robotiq_85/visual/robotiq_arg2f_85_outer_finger.obj': Package \"motoman_config\" is deprecated: This package will be removed in ROS Indigo.  The configuration data included in this package can now be found in the various support packages (i.e. motoman_[model]_support)\n"
     ]
    },
    {
     "name": "stderr",
     "output_type": "stream",
     "text": [
      "WARNING:drake:/home/yinglong/Documents/research/task_motion_planning/infrastructure/motoman_ws/src/pracsys-motoman/motoman/motoman_config/updated_obj_urdf/motoman_dual.urdf:857: warning: In URI 'package://motoman_config/updated_obj_urdf/robotiq_85/collision/robotiq_arg2f_85_outer_finger.obj': Package \"motoman_config\" is deprecated: This package will be removed in ROS Indigo.  The configuration data included in this package can now be found in the various support packages (i.e. motoman_[model]_support)\n",
      "WARNING:drake:/home/yinglong/Documents/research/task_motion_planning/infrastructure/motoman_ws/src/pracsys-motoman/motoman/motoman_config/updated_obj_urdf/motoman_dual.urdf:875: warning: In URI 'package://motoman_config/updated_obj_urdf/robotiq_85/visual/robotiq_arg2f_85_inner_finger.obj': Package \"motoman_config\" is deprecated: This package will be removed in ROS Indigo.  The configuration data included in this package can now be found in the various support packages (i.e. motoman_[model]_support)\n",
      "WARNING:drake:/home/yinglong/Documents/research/task_motion_planning/infrastructure/motoman_ws/src/pracsys-motoman/motoman/motoman_config/updated_obj_urdf/motoman_dual.urdf:884: warning: In URI 'package://motoman_config/updated_obj_urdf/robotiq_85/collision/robotiq_arg2f_85_inner_finger.obj': Package \"motoman_config\" is deprecated: This package will be removed in ROS Indigo.  The configuration data included in this package can now be found in the various support packages (i.e. motoman_[model]_support)\n",
      "WARNING:drake:/home/yinglong/Documents/research/task_motion_planning/infrastructure/motoman_ws/src/pracsys-motoman/motoman/motoman_config/updated_obj_urdf/motoman_dual.urdf:926: warning: In URI 'package://motoman_config/updated_obj_urdf/robotiq_85/visual/robotiq_arg2f_85_inner_knuckle.obj': Package \"motoman_config\" is deprecated: This package will be removed in ROS Indigo.  The configuration data included in this package can now be found in the various support packages (i.e. motoman_[model]_support)\n",
      "WARNING:drake:/home/yinglong/Documents/research/task_motion_planning/infrastructure/motoman_ws/src/pracsys-motoman/motoman/motoman_config/updated_obj_urdf/motoman_dual.urdf:935: warning: In URI 'package://motoman_config/updated_obj_urdf/robotiq_85/collision/robotiq_arg2f_85_inner_knuckle.obj': Package \"motoman_config\" is deprecated: This package will be removed in ROS Indigo.  The configuration data included in this package can now be found in the various support packages (i.e. motoman_[model]_support)\n",
      "WARNING:drake:/home/yinglong/Documents/research/task_motion_planning/infrastructure/motoman_ws/src/pracsys-motoman/motoman/motoman_config/updated_obj_urdf/motoman_dual.urdf:1067: warning: Skipping transmission since it's attached to a fixed joint \"finger_joint\".\n"
     ]
    },
    {
     "name": "stdout",
     "output_type": "stream",
     "text": [
      "Click 'Stop Running' or press Esc to quit\n"
     ]
    }
   ],
   "source": [
    "# import the external motoman URDF model, and visualize it\n",
    "\n",
    "# First we'll locate one of Drake's example model files, a KUKA iiwa arm.\n",
    "# Note that FindResourceOrThrow() is only used for models included with Drake.\n",
    "# Don't use FindResourceOrThrow for your own models.\n",
    "# iiwa7_model_file = FindResourceOrThrow(\n",
    "#     \"drake/manipulation/models/\"\n",
    "#     \"iiwa_description/iiwa7/iiwa7_with_box_collision.sdf\")\n",
    "motoman_model_file = '/home/yinglong/Documents/research/task_motion_planning/infrastructure/motoman_ws/src/pracsys-motoman/motoman/motoman_config/updated_obj_urdf/motoman_dual.urdf'\n",
    "\n",
    "\n",
    "# Create a model visualizer and add the robot arm.\n",
    "visualizer = ModelVisualizer(meshcat=meshcat)\n",
    "visualizer.parser().package_map().PopulateFromFolder('/home/yinglong/Documents/research/task_motion_planning/infrastructure/motoman_ws/src/pracsys-motoman/motoman/motoman_config')\n",
    "visualizer.AddModels(motoman_model_file)\n",
    "\n",
    "# When this notebook is run in test mode it needs to stop execution without\n",
    "# user interaction. For interactive model visualization you won't normally\n",
    "# need the 'loop_once' flag.\n",
    "test_mode = True if \"TEST_SRCDIR\" in os.environ else False\n",
    "\n",
    "# Start the interactive visualizer.\n",
    "# Click the \"Stop Running\" button in MeshCat when you're finished.\n",
    "visualizer.Run(loop_once=test_mode)"
   ]
  },
  {
   "cell_type": "code",
   "execution_count": 3,
   "id": "b5d87cf3",
   "metadata": {},
   "outputs": [],
   "source": [
    "import json\n",
    "from pydrake.geometry import Box, HalfSpace\n",
    "from pydrake.multibody.tree import SpatialInertia\n",
    "from pydrake.multibody.plant import CoulombFriction\n",
    "import transformations as tf\n",
    "motoman_model_file = '/home/yinglong/Documents/research/task_motion_planning/infrastructure/motoman_ws/src/pracsys-motoman/motoman/motoman_config/updated_obj_urdf/motoman_dual.urdf'\n"
   ]
  },
  {
   "cell_type": "code",
   "execution_count": 4,
   "id": "37c956b4",
   "metadata": {},
   "outputs": [],
   "source": [
    "# load the scene file from json, and construct the workspace\n",
    "\n",
    "def load_scene_workspace(plant: MultibodyPlant):\n",
    "    scene_f = 'scene.json'\n",
    "    f = open(scene_f, 'r')\n",
    "    scene_dict = json.load(f)\n",
    "    base_pos = scene_dict['workspace']['pos']\n",
    "    components = scene_dict['workspace']['components']\n",
    "    spatial_inertia = SpatialInertia()\n",
    "    new_model_instance = plant.AddModelInstance(\"workspace_model_instance\")\n",
    "    body = plant.AddRigidBody(name=\"workspace\", model_instance=new_model_instance, M_BBo_B=spatial_inertia)  # this is the body representing the environment\n",
    "        \n",
    "    for component_name, component in components.items():\n",
    "        print('component name: ')\n",
    "        print(component_name)\n",
    "        shape = component['shape']\n",
    "        shape = np.array(shape)\n",
    "        # pos = np.array(component['pose']['pos'])\n",
    "        component['pose']['pos'] = np.array(component['pose']['pos']) + np.array(base_pos)\n",
    "        pos = np.array(component['pose']['pos'])\n",
    "        ori = component['pose']['ori']  # x y z w\n",
    "        alpha = 1.0\n",
    "        quat = tf.quaternion_matrix([ori[3],ori[0],ori[1],ori[2]])\n",
    "        R = RotationMatrix(quat[:3,:3])\n",
    "        body_X_BG = RigidTransform(R=R, p=pos)\n",
    "        body_friction = CoulombFriction(static_friction=0.6,\n",
    "                                        dynamic_friction=0.5)\n",
    "        # create a plant body\n",
    "        col_shape = Box(width=shape[0], depth=shape[1], height=shape[2])\n",
    "        vid = plant.RegisterVisualGeometry(body=body, X_BG=body_X_BG, shape=col_shape, name=component_name+'_visual',\n",
    "                                     diffuse_color=[1., 0.64, 0.0, 1.0])\n",
    "        cid = plant.RegisterCollisionGeometry(body=body, X_BG=body_X_BG, shape=col_shape, name=component_name+'_collision',\n",
    "                                        coulomb_friction=body_friction)\n",
    "        print('vid: ', vid)\n",
    "        print('cid: ', cid)\n",
    "    return body, base_pos"
   ]
  },
  {
   "cell_type": "code",
   "execution_count": 5,
   "id": "1729e959",
   "metadata": {},
   "outputs": [],
   "source": [
    "# https://www.kwesirutledge.info/thoughts/drake1\n",
    "def AddGround(plant):\n",
    "    \"\"\"\n",
    "    Add a flat ground with friction\n",
    "    \"\"\"\n",
    "\n",
    "    # Constants\n",
    "    transparent_color = np.array([0.5,0.5,0.5,0])\n",
    "    nontransparent_color = np.array([0.5,0.5,0.5,0.1])\n",
    "\n",
    "    p_GroundOrigin = [0, 0.0, 0.0]\n",
    "    R_GroundOrigin = RotationMatrix.MakeXRotation(0.0)\n",
    "    X_GroundOrigin = RigidTransform(R_GroundOrigin,p_GroundOrigin)\n",
    "\n",
    "    # Set Up Ground on Plant\n",
    "\n",
    "    surface_friction = CoulombFriction(\n",
    "            static_friction = 0.7,\n",
    "            dynamic_friction = 0.5)\n",
    "    plant.RegisterCollisionGeometry(\n",
    "            plant.world_body(),\n",
    "            X_GroundOrigin,\n",
    "            HalfSpace(),\n",
    "            \"ground_collision\",\n",
    "            surface_friction)\n",
    "    plant.RegisterVisualGeometry(\n",
    "            plant.world_body(),\n",
    "            X_GroundOrigin,\n",
    "            HalfSpace(),\n",
    "            \"ground_visual\",\n",
    "            transparent_color)  # transparent\n"
   ]
  },
  {
   "cell_type": "code",
   "execution_count": 6,
   "id": "5163fba3",
   "metadata": {},
   "outputs": [],
   "source": [
    "def create_scene(sim_time_step=0.0001):\n",
    "    # Clean up the Meshcat instance.\n",
    "    meshcat.Delete()\n",
    "    meshcat.DeleteAddedControls()\n",
    "\n",
    "    builder = DiagramBuilder()\n",
    "    plant, scene_graph = AddMultibodyPlantSceneGraph(\n",
    "        builder, time_step=sim_time_step)\n",
    "    parser = Parser(plant)\n",
    "\n",
    "    # Loading models.\n",
    "\n",
    "    # Weld the table to the world so that it's fixed during the simulation.\n",
    "    \n",
    "    parser.package_map().PopulateFromFolder('/home/yinglong/Documents/research/task_motion_planning/infrastructure/motoman_ws/src/pracsys-motoman/motoman/motoman_config')\n",
    "    parser.AddModels(motoman_model_file)\n",
    "\n",
    "    table_frame = plant.GetFrameByName(\"base\")\n",
    "    plant.WeldFrames(plant.world_frame(), table_frame)\n",
    "\n",
    "    # add workspace\n",
    "    workspace_body, workspace_pos = load_scene_workspace(plant)\n",
    "    X_WorldB = RigidTransform(p=workspace_pos)\n",
    "    print('X_WorldB: ')\n",
    "    print(X_WorldB)\n",
    "    plant.WeldFrames(plant.world_frame(), workspace_body.body_frame(), X_WorldB)\n",
    "\n",
    "    \n",
    "#     AddGround(plant)\n",
    "    print('workspace_pos: ', workspace_pos)\n",
    "\n",
    "    # Finalize the plant after loading the scene.\n",
    "    plant.Finalize()\n",
    "    \n",
    "    print('number of collision geometries: ', plant.num_collision_geometries())\n",
    "    # We use the default context to calculate the transformation of the table\n",
    "    # in world frame but this is NOT the context the Diagram consumes.\n",
    "    plant_context = plant.CreateDefaultContext()\n",
    "\n",
    "    # Set the initial pose for the free bodies, i.e., the custom box and the\n",
    "    # cracker box.\n",
    "    body = plant.GetBodyByName(\"workspace\")\n",
    "\n",
    "    \n",
    "    # get the workspace pose    \n",
    "#     X_WorldB = RigidTransform(p=workspace_pos)\n",
    "\n",
    "#     plant.SetFreeBodyPose(plant_context, body, X_WorldB)\n",
    "\n",
    "    # Add visualizer to visualize the geometries.\n",
    "    visualizer = MeshcatVisualizer.AddToBuilder(\n",
    "        builder, scene_graph, meshcat,\n",
    "        MeshcatVisualizerParams(role=Role.kPerception, prefix=\"visual\"))\n",
    "\n",
    "    diagram = builder.Build()\n",
    "    return diagram, visualizer"
   ]
  },
  {
   "cell_type": "code",
   "execution_count": 7,
   "id": "a47a6d52",
   "metadata": {},
   "outputs": [
    {
     "name": "stderr",
     "output_type": "stream",
     "text": [
      "WARNING:drake:/home/yinglong/Documents/research/task_motion_planning/infrastructure/motoman_ws/src/pracsys-motoman/motoman/motoman_config/updated_obj_urdf/motoman_dual.urdf:20: warning: In URI 'package://motoman_config/updated_obj_urdf/sda10f_description/meshes/sda10f/visual/motoman_base.obj': Package \"motoman_config\" is deprecated: This package will be removed in ROS Indigo.  The configuration data included in this package can now be found in the various support packages (i.e. motoman_[model]_support)\n",
      "WARNING:drake:/home/yinglong/Documents/research/task_motion_planning/infrastructure/motoman_ws/src/pracsys-motoman/motoman/motoman_config/updated_obj_urdf/motoman_dual.urdf:28: warning: In URI 'package://motoman_config/updated_obj_urdf/sda10f_description/meshes/sda10f/collision/motoman_base.obj': Package \"motoman_config\" is deprecated: This package will be removed in ROS Indigo.  The configuration data included in this package can now be found in the various support packages (i.e. motoman_[model]_support)\n",
      "WARNING:drake:/home/yinglong/Documents/research/task_motion_planning/infrastructure/motoman_ws/src/pracsys-motoman/motoman/motoman_config/updated_obj_urdf/motoman_dual.urdf:58: warning: In URI 'package://motoman_config/updated_obj_urdf/sda10f_description/meshes/sda10f/visual/motoman_axis_b1.obj': Package \"motoman_config\" is deprecated: This package will be removed in ROS Indigo.  The configuration data included in this package can now be found in the various support packages (i.e. motoman_[model]_support)\n",
      "WARNING:drake:/home/yinglong/Documents/research/task_motion_planning/infrastructure/motoman_ws/src/pracsys-motoman/motoman/motoman_config/updated_obj_urdf/motoman_dual.urdf:67: warning: In URI 'package://motoman_config/updated_obj_urdf/sda10f_description/meshes/sda10f/collision/motoman_axis_b1_remeshed.obj': Package \"motoman_config\" is deprecated: This package will be removed in ROS Indigo.  The configuration data included in this package can now be found in the various support packages (i.e. motoman_[model]_support)\n",
      "WARNING:drake:/home/yinglong/Documents/research/task_motion_planning/infrastructure/motoman_ws/src/pracsys-motoman/motoman/motoman_config/updated_obj_urdf/motoman_dual.urdf:83: warning: In URI 'package://motoman_config/updated_obj_urdf/sda10f_description/meshes/sda10f/visual/motoman_axis_s.obj': Package \"motoman_config\" is deprecated: This package will be removed in ROS Indigo.  The configuration data included in this package can now be found in the various support packages (i.e. motoman_[model]_support)\n",
      "WARNING:drake:/home/yinglong/Documents/research/task_motion_planning/infrastructure/motoman_ws/src/pracsys-motoman/motoman/motoman_config/updated_obj_urdf/motoman_dual.urdf:94: warning: In URI 'package://motoman_config/updated_obj_urdf/sda10f_description/meshes/sda10f/collision/motoman_axis_s.obj': Package \"motoman_config\" is deprecated: This package will be removed in ROS Indigo.  The configuration data included in this package can now be found in the various support packages (i.e. motoman_[model]_support)\n",
      "WARNING:drake:/home/yinglong/Documents/research/task_motion_planning/infrastructure/motoman_ws/src/pracsys-motoman/motoman/motoman_config/updated_obj_urdf/motoman_dual.urdf:109: warning: In URI 'package://motoman_config/updated_obj_urdf/sda10f_description/meshes/sda10f/visual/motoman_axis_l.obj': Package \"motoman_config\" is deprecated: This package will be removed in ROS Indigo.  The configuration data included in this package can now be found in the various support packages (i.e. motoman_[model]_support)\n",
      "WARNING:drake:/home/yinglong/Documents/research/task_motion_planning/infrastructure/motoman_ws/src/pracsys-motoman/motoman/motoman_config/updated_obj_urdf/motoman_dual.urdf:117: warning: In URI 'package://motoman_config/updated_obj_urdf/sda10f_description/meshes/sda10f/collision/motoman_axis_l.obj': Package \"motoman_config\" is deprecated: This package will be removed in ROS Indigo.  The configuration data included in this package can now be found in the various support packages (i.e. motoman_[model]_support)\n",
      "WARNING:drake:/home/yinglong/Documents/research/task_motion_planning/infrastructure/motoman_ws/src/pracsys-motoman/motoman/motoman_config/updated_obj_urdf/motoman_dual.urdf:132: warning: In URI 'package://motoman_config/updated_obj_urdf/sda10f_description/meshes/sda10f/visual/motoman_axis_e.obj': Package \"motoman_config\" is deprecated: This package will be removed in ROS Indigo.  The configuration data included in this package can now be found in the various support packages (i.e. motoman_[model]_support)\n",
      "WARNING:drake:/home/yinglong/Documents/research/task_motion_planning/infrastructure/motoman_ws/src/pracsys-motoman/motoman/motoman_config/updated_obj_urdf/motoman_dual.urdf:140: warning: In URI 'package://motoman_config/updated_obj_urdf/sda10f_description/meshes/sda10f/collision/motoman_axis_e.obj': Package \"motoman_config\" is deprecated: This package will be removed in ROS Indigo.  The configuration data included in this package can now be found in the various support packages (i.e. motoman_[model]_support)\n",
      "WARNING:drake:/home/yinglong/Documents/research/task_motion_planning/infrastructure/motoman_ws/src/pracsys-motoman/motoman/motoman_config/updated_obj_urdf/motoman_dual.urdf:155: warning: In URI 'package://motoman_config/updated_obj_urdf/sda10f_description/meshes/sda10f/visual/motoman_axis_u.obj': Package \"motoman_config\" is deprecated: This package will be removed in ROS Indigo.  The configuration data included in this package can now be found in the various support packages (i.e. motoman_[model]_support)\n",
      "WARNING:drake:/home/yinglong/Documents/research/task_motion_planning/infrastructure/motoman_ws/src/pracsys-motoman/motoman/motoman_config/updated_obj_urdf/motoman_dual.urdf:163: warning: In URI 'package://motoman_config/updated_obj_urdf/sda10f_description/meshes/sda10f/collision/motoman_axis_u.obj': Package \"motoman_config\" is deprecated: This package will be removed in ROS Indigo.  The configuration data included in this package can now be found in the various support packages (i.e. motoman_[model]_support)\n",
      "WARNING:drake:/home/yinglong/Documents/research/task_motion_planning/infrastructure/motoman_ws/src/pracsys-motoman/motoman/motoman_config/updated_obj_urdf/motoman_dual.urdf:178: warning: In URI 'package://motoman_config/updated_obj_urdf/sda10f_description/meshes/sda10f/visual/motoman_axis_r.obj': Package \"motoman_config\" is deprecated: This package will be removed in ROS Indigo.  The configuration data included in this package can now be found in the various support packages (i.e. motoman_[model]_support)\n",
      "WARNING:drake:/home/yinglong/Documents/research/task_motion_planning/infrastructure/motoman_ws/src/pracsys-motoman/motoman/motoman_config/updated_obj_urdf/motoman_dual.urdf:186: warning: In URI 'package://motoman_config/updated_obj_urdf/sda10f_description/meshes/sda10f/collision/motoman_axis_r.obj': Package \"motoman_config\" is deprecated: This package will be removed in ROS Indigo.  The configuration data included in this package can now be found in the various support packages (i.e. motoman_[model]_support)\n",
      "WARNING:drake:/home/yinglong/Documents/research/task_motion_planning/infrastructure/motoman_ws/src/pracsys-motoman/motoman/motoman_config/updated_obj_urdf/motoman_dual.urdf:201: warning: In URI 'package://motoman_config/updated_obj_urdf/sda10f_description/meshes/sda10f/visual/motoman_axis_b.obj': Package \"motoman_config\" is deprecated: This package will be removed in ROS Indigo.  The configuration data included in this package can now be found in the various support packages (i.e. motoman_[model]_support)\n",
      "WARNING:drake:/home/yinglong/Documents/research/task_motion_planning/infrastructure/motoman_ws/src/pracsys-motoman/motoman/motoman_config/updated_obj_urdf/motoman_dual.urdf:209: warning: In URI 'package://motoman_config/updated_obj_urdf/sda10f_description/meshes/sda10f/collision/motoman_axis_b_remeshed.obj': Package \"motoman_config\" is deprecated: This package will be removed in ROS Indigo.  The configuration data included in this package can now be found in the various support packages (i.e. motoman_[model]_support)\n"
     ]
    },
    {
     "name": "stderr",
     "output_type": "stream",
     "text": [
      "WARNING:drake:/home/yinglong/Documents/research/task_motion_planning/infrastructure/motoman_ws/src/pracsys-motoman/motoman/motoman_config/updated_obj_urdf/motoman_dual.urdf:223: warning: In URI 'package://motoman_config/updated_obj_urdf/sda10f_description/meshes/sda10f/visual/motoman_axis_t.obj': Package \"motoman_config\" is deprecated: This package will be removed in ROS Indigo.  The configuration data included in this package can now be found in the various support packages (i.e. motoman_[model]_support)\n",
      "WARNING:drake:/home/yinglong/Documents/research/task_motion_planning/infrastructure/motoman_ws/src/pracsys-motoman/motoman/motoman_config/updated_obj_urdf/motoman_dual.urdf:230: warning: In URI 'package://motoman_config/updated_obj_urdf/sda10f_description/meshes/sda10f/collision/motoman_axis_t.obj': Package \"motoman_config\" is deprecated: This package will be removed in ROS Indigo.  The configuration data included in this package can now be found in the various support packages (i.e. motoman_[model]_support)\n",
      "WARNING:drake:/home/yinglong/Documents/research/task_motion_planning/infrastructure/motoman_ws/src/pracsys-motoman/motoman/motoman_config/updated_obj_urdf/motoman_dual.urdf:311: warning: In URI 'package://motoman_config/updated_obj_urdf/sda10f_description/meshes/sda10f/visual/motoman_axis_s.obj': Package \"motoman_config\" is deprecated: This package will be removed in ROS Indigo.  The configuration data included in this package can now be found in the various support packages (i.e. motoman_[model]_support)\n",
      "WARNING:drake:/home/yinglong/Documents/research/task_motion_planning/infrastructure/motoman_ws/src/pracsys-motoman/motoman/motoman_config/updated_obj_urdf/motoman_dual.urdf:321: warning: In URI 'package://motoman_config/updated_obj_urdf/sda10f_description/meshes/sda10f/collision/motoman_axis_s.obj': Package \"motoman_config\" is deprecated: This package will be removed in ROS Indigo.  The configuration data included in this package can now be found in the various support packages (i.e. motoman_[model]_support)\n",
      "WARNING:drake:/home/yinglong/Documents/research/task_motion_planning/infrastructure/motoman_ws/src/pracsys-motoman/motoman/motoman_config/updated_obj_urdf/motoman_dual.urdf:336: warning: In URI 'package://motoman_config/updated_obj_urdf/sda10f_description/meshes/sda10f/visual/motoman_axis_l.obj': Package \"motoman_config\" is deprecated: This package will be removed in ROS Indigo.  The configuration data included in this package can now be found in the various support packages (i.e. motoman_[model]_support)\n",
      "WARNING:drake:/home/yinglong/Documents/research/task_motion_planning/infrastructure/motoman_ws/src/pracsys-motoman/motoman/motoman_config/updated_obj_urdf/motoman_dual.urdf:344: warning: In URI 'package://motoman_config/updated_obj_urdf/sda10f_description/meshes/sda10f/collision/motoman_axis_l.obj': Package \"motoman_config\" is deprecated: This package will be removed in ROS Indigo.  The configuration data included in this package can now be found in the various support packages (i.e. motoman_[model]_support)\n",
      "WARNING:drake:/home/yinglong/Documents/research/task_motion_planning/infrastructure/motoman_ws/src/pracsys-motoman/motoman/motoman_config/updated_obj_urdf/motoman_dual.urdf:359: warning: In URI 'package://motoman_config/updated_obj_urdf/sda10f_description/meshes/sda10f/visual/motoman_axis_e.obj': Package \"motoman_config\" is deprecated: This package will be removed in ROS Indigo.  The configuration data included in this package can now be found in the various support packages (i.e. motoman_[model]_support)\n",
      "WARNING:drake:/home/yinglong/Documents/research/task_motion_planning/infrastructure/motoman_ws/src/pracsys-motoman/motoman/motoman_config/updated_obj_urdf/motoman_dual.urdf:367: warning: In URI 'package://motoman_config/updated_obj_urdf/sda10f_description/meshes/sda10f/collision/motoman_axis_e.obj': Package \"motoman_config\" is deprecated: This package will be removed in ROS Indigo.  The configuration data included in this package can now be found in the various support packages (i.e. motoman_[model]_support)\n",
      "WARNING:drake:/home/yinglong/Documents/research/task_motion_planning/infrastructure/motoman_ws/src/pracsys-motoman/motoman/motoman_config/updated_obj_urdf/motoman_dual.urdf:382: warning: In URI 'package://motoman_config/updated_obj_urdf/sda10f_description/meshes/sda10f/visual/motoman_axis_u.obj': Package \"motoman_config\" is deprecated: This package will be removed in ROS Indigo.  The configuration data included in this package can now be found in the various support packages (i.e. motoman_[model]_support)\n",
      "WARNING:drake:/home/yinglong/Documents/research/task_motion_planning/infrastructure/motoman_ws/src/pracsys-motoman/motoman/motoman_config/updated_obj_urdf/motoman_dual.urdf:390: warning: In URI 'package://motoman_config/updated_obj_urdf/sda10f_description/meshes/sda10f/collision/motoman_axis_u.obj': Package \"motoman_config\" is deprecated: This package will be removed in ROS Indigo.  The configuration data included in this package can now be found in the various support packages (i.e. motoman_[model]_support)\n",
      "WARNING:drake:/home/yinglong/Documents/research/task_motion_planning/infrastructure/motoman_ws/src/pracsys-motoman/motoman/motoman_config/updated_obj_urdf/motoman_dual.urdf:405: warning: In URI 'package://motoman_config/updated_obj_urdf/sda10f_description/meshes/sda10f/visual/motoman_axis_r.obj': Package \"motoman_config\" is deprecated: This package will be removed in ROS Indigo.  The configuration data included in this package can now be found in the various support packages (i.e. motoman_[model]_support)\n",
      "WARNING:drake:/home/yinglong/Documents/research/task_motion_planning/infrastructure/motoman_ws/src/pracsys-motoman/motoman/motoman_config/updated_obj_urdf/motoman_dual.urdf:413: warning: In URI 'package://motoman_config/updated_obj_urdf/sda10f_description/meshes/sda10f/collision/motoman_axis_r.obj': Package \"motoman_config\" is deprecated: This package will be removed in ROS Indigo.  The configuration data included in this package can now be found in the various support packages (i.e. motoman_[model]_support)\n",
      "WARNING:drake:/home/yinglong/Documents/research/task_motion_planning/infrastructure/motoman_ws/src/pracsys-motoman/motoman/motoman_config/updated_obj_urdf/motoman_dual.urdf:428: warning: In URI 'package://motoman_config/updated_obj_urdf/sda10f_description/meshes/sda10f/visual/motoman_axis_b.obj': Package \"motoman_config\" is deprecated: This package will be removed in ROS Indigo.  The configuration data included in this package can now be found in the various support packages (i.e. motoman_[model]_support)\n",
      "WARNING:drake:/home/yinglong/Documents/research/task_motion_planning/infrastructure/motoman_ws/src/pracsys-motoman/motoman/motoman_config/updated_obj_urdf/motoman_dual.urdf:436: warning: In URI 'package://motoman_config/updated_obj_urdf/sda10f_description/meshes/sda10f/collision/motoman_axis_b_remeshed.obj': Package \"motoman_config\" is deprecated: This package will be removed in ROS Indigo.  The configuration data included in this package can now be found in the various support packages (i.e. motoman_[model]_support)\n",
      "WARNING:drake:/home/yinglong/Documents/research/task_motion_planning/infrastructure/motoman_ws/src/pracsys-motoman/motoman/motoman_config/updated_obj_urdf/motoman_dual.urdf:450: warning: In URI 'package://motoman_config/updated_obj_urdf/sda10f_description/meshes/sda10f/visual/motoman_axis_t.obj': Package \"motoman_config\" is deprecated: This package will be removed in ROS Indigo.  The configuration data included in this package can now be found in the various support packages (i.e. motoman_[model]_support)\n",
      "WARNING:drake:/home/yinglong/Documents/research/task_motion_planning/infrastructure/motoman_ws/src/pracsys-motoman/motoman/motoman_config/updated_obj_urdf/motoman_dual.urdf:457: warning: In URI 'package://motoman_config/updated_obj_urdf/sda10f_description/meshes/sda10f/collision/motoman_axis_t.obj': Package \"motoman_config\" is deprecated: This package will be removed in ROS Indigo.  The configuration data included in this package can now be found in the various support packages (i.e. motoman_[model]_support)\n"
     ]
    },
    {
     "name": "stderr",
     "output_type": "stream",
     "text": [
      "WARNING:drake:/home/yinglong/Documents/research/task_motion_planning/infrastructure/motoman_ws/src/pracsys-motoman/motoman/motoman_config/updated_obj_urdf/motoman_dual.urdf:544: warning: In URI 'package://motoman_config/updated_obj_urdf/onrobot_vgc10/visual/base_link.obj': Package \"motoman_config\" is deprecated: This package will be removed in ROS Indigo.  The configuration data included in this package can now be found in the various support packages (i.e. motoman_[model]_support)\n",
      "WARNING:drake:/home/yinglong/Documents/research/task_motion_planning/infrastructure/motoman_ws/src/pracsys-motoman/motoman/motoman_config/updated_obj_urdf/motoman_dual.urdf:553: warning: In URI 'package://motoman_config/updated_obj_urdf/onrobot_vgc10/collision/base_link.obj': Package \"motoman_config\" is deprecated: This package will be removed in ROS Indigo.  The configuration data included in this package can now be found in the various support packages (i.e. motoman_[model]_support)\n",
      "WARNING:drake:/home/yinglong/Documents/research/task_motion_planning/infrastructure/motoman_ws/src/pracsys-motoman/motoman/motoman_config/updated_obj_urdf/motoman_dual.urdf:572: warning: In URI 'package://motoman_config/updated_obj_urdf/onrobot_vgc10/visual/suction_cup.obj': Package \"motoman_config\" is deprecated: This package will be removed in ROS Indigo.  The configuration data included in this package can now be found in the various support packages (i.e. motoman_[model]_support)\n",
      "WARNING:drake:/home/yinglong/Documents/research/task_motion_planning/infrastructure/motoman_ws/src/pracsys-motoman/motoman/motoman_config/updated_obj_urdf/motoman_dual.urdf:581: warning: In URI 'package://motoman_config/updated_obj_urdf/onrobot_vgc10/collision/suction_cup.obj': Package \"motoman_config\" is deprecated: This package will be removed in ROS Indigo.  The configuration data included in this package can now be found in the various support packages (i.e. motoman_[model]_support)\n",
      "WARNING:drake:/home/yinglong/Documents/research/task_motion_planning/infrastructure/motoman_ws/src/pracsys-motoman/motoman/motoman_config/updated_obj_urdf/motoman_dual.urdf:654: warning: In URI 'package://motoman_config/updated_obj_urdf/robotiq_85/visual/robotiq_arg2f_85_base_link.obj': Package \"motoman_config\" is deprecated: This package will be removed in ROS Indigo.  The configuration data included in this package can now be found in the various support packages (i.e. motoman_[model]_support)\n",
      "WARNING:drake:/home/yinglong/Documents/research/task_motion_planning/infrastructure/motoman_ws/src/pracsys-motoman/motoman/motoman_config/updated_obj_urdf/motoman_dual.urdf:663: warning: In URI 'package://motoman_config/updated_obj_urdf/robotiq_85/collision/robotiq_arg2f_base_link.obj': Package \"motoman_config\" is deprecated: This package will be removed in ROS Indigo.  The configuration data included in this package can now be found in the various support packages (i.e. motoman_[model]_support)\n",
      "WARNING:drake:/home/yinglong/Documents/research/task_motion_planning/infrastructure/motoman_ws/src/pracsys-motoman/motoman/motoman_config/updated_obj_urdf/motoman_dual.urdf:681: warning: In URI 'package://motoman_config/updated_obj_urdf/robotiq_85/visual/robotiq_arg2f_85_outer_knuckle.obj': Package \"motoman_config\" is deprecated: This package will be removed in ROS Indigo.  The configuration data included in this package can now be found in the various support packages (i.e. motoman_[model]_support)\n",
      "WARNING:drake:/home/yinglong/Documents/research/task_motion_planning/infrastructure/motoman_ws/src/pracsys-motoman/motoman/motoman_config/updated_obj_urdf/motoman_dual.urdf:690: warning: In URI 'package://motoman_config/updated_obj_urdf/robotiq_85/collision/robotiq_arg2f_85_outer_knuckle.obj': Package \"motoman_config\" is deprecated: This package will be removed in ROS Indigo.  The configuration data included in this package can now be found in the various support packages (i.e. motoman_[model]_support)\n",
      "WARNING:drake:/home/yinglong/Documents/research/task_motion_planning/infrastructure/motoman_ws/src/pracsys-motoman/motoman/motoman_config/updated_obj_urdf/motoman_dual.urdf:708: warning: In URI 'package://motoman_config/updated_obj_urdf/robotiq_85/visual/robotiq_arg2f_85_outer_finger.obj': Package \"motoman_config\" is deprecated: This package will be removed in ROS Indigo.  The configuration data included in this package can now be found in the various support packages (i.e. motoman_[model]_support)\n",
      "WARNING:drake:/home/yinglong/Documents/research/task_motion_planning/infrastructure/motoman_ws/src/pracsys-motoman/motoman/motoman_config/updated_obj_urdf/motoman_dual.urdf:717: warning: In URI 'package://motoman_config/updated_obj_urdf/robotiq_85/collision/robotiq_arg2f_85_outer_finger.obj': Package \"motoman_config\" is deprecated: This package will be removed in ROS Indigo.  The configuration data included in this package can now be found in the various support packages (i.e. motoman_[model]_support)\n",
      "WARNING:drake:/home/yinglong/Documents/research/task_motion_planning/infrastructure/motoman_ws/src/pracsys-motoman/motoman/motoman_config/updated_obj_urdf/motoman_dual.urdf:735: warning: In URI 'package://motoman_config/updated_obj_urdf/robotiq_85/visual/robotiq_arg2f_85_inner_finger.obj': Package \"motoman_config\" is deprecated: This package will be removed in ROS Indigo.  The configuration data included in this package can now be found in the various support packages (i.e. motoman_[model]_support)\n",
      "WARNING:drake:/home/yinglong/Documents/research/task_motion_planning/infrastructure/motoman_ws/src/pracsys-motoman/motoman/motoman_config/updated_obj_urdf/motoman_dual.urdf:744: warning: In URI 'package://motoman_config/updated_obj_urdf/robotiq_85/collision/robotiq_arg2f_85_inner_finger.obj': Package \"motoman_config\" is deprecated: This package will be removed in ROS Indigo.  The configuration data included in this package can now be found in the various support packages (i.e. motoman_[model]_support)\n",
      "WARNING:drake:/home/yinglong/Documents/research/task_motion_planning/infrastructure/motoman_ws/src/pracsys-motoman/motoman/motoman_config/updated_obj_urdf/motoman_dual.urdf:786: warning: In URI 'package://motoman_config/updated_obj_urdf/robotiq_85/visual/robotiq_arg2f_85_inner_knuckle.obj': Package \"motoman_config\" is deprecated: This package will be removed in ROS Indigo.  The configuration data included in this package can now be found in the various support packages (i.e. motoman_[model]_support)\n",
      "WARNING:drake:/home/yinglong/Documents/research/task_motion_planning/infrastructure/motoman_ws/src/pracsys-motoman/motoman/motoman_config/updated_obj_urdf/motoman_dual.urdf:795: warning: In URI 'package://motoman_config/updated_obj_urdf/robotiq_85/collision/robotiq_arg2f_85_inner_knuckle.obj': Package \"motoman_config\" is deprecated: This package will be removed in ROS Indigo.  The configuration data included in this package can now be found in the various support packages (i.e. motoman_[model]_support)\n",
      "WARNING:drake:/home/yinglong/Documents/research/task_motion_planning/infrastructure/motoman_ws/src/pracsys-motoman/motoman/motoman_config/updated_obj_urdf/motoman_dual.urdf:817: warning: In URI 'package://motoman_config/updated_obj_urdf/robotiq_85/visual/robotiq_arg2f_85_outer_knuckle.obj': Package \"motoman_config\" is deprecated: This package will be removed in ROS Indigo.  The configuration data included in this package can now be found in the various support packages (i.e. motoman_[model]_support)\n",
      "WARNING:drake:/home/yinglong/Documents/research/task_motion_planning/infrastructure/motoman_ws/src/pracsys-motoman/motoman/motoman_config/updated_obj_urdf/motoman_dual.urdf:826: warning: In URI 'package://motoman_config/updated_obj_urdf/robotiq_85/collision/robotiq_arg2f_85_outer_knuckle.obj': Package \"motoman_config\" is deprecated: This package will be removed in ROS Indigo.  The configuration data included in this package can now be found in the various support packages (i.e. motoman_[model]_support)\n",
      "WARNING:drake:/home/yinglong/Documents/research/task_motion_planning/infrastructure/motoman_ws/src/pracsys-motoman/motoman/motoman_config/updated_obj_urdf/motoman_dual.urdf:848: warning: In URI 'package://motoman_config/updated_obj_urdf/robotiq_85/visual/robotiq_arg2f_85_outer_finger.obj': Package \"motoman_config\" is deprecated: This package will be removed in ROS Indigo.  The configuration data included in this package can now be found in the various support packages (i.e. motoman_[model]_support)\n"
     ]
    },
    {
     "name": "stderr",
     "output_type": "stream",
     "text": [
      "WARNING:drake:/home/yinglong/Documents/research/task_motion_planning/infrastructure/motoman_ws/src/pracsys-motoman/motoman/motoman_config/updated_obj_urdf/motoman_dual.urdf:857: warning: In URI 'package://motoman_config/updated_obj_urdf/robotiq_85/collision/robotiq_arg2f_85_outer_finger.obj': Package \"motoman_config\" is deprecated: This package will be removed in ROS Indigo.  The configuration data included in this package can now be found in the various support packages (i.e. motoman_[model]_support)\n",
      "WARNING:drake:/home/yinglong/Documents/research/task_motion_planning/infrastructure/motoman_ws/src/pracsys-motoman/motoman/motoman_config/updated_obj_urdf/motoman_dual.urdf:875: warning: In URI 'package://motoman_config/updated_obj_urdf/robotiq_85/visual/robotiq_arg2f_85_inner_finger.obj': Package \"motoman_config\" is deprecated: This package will be removed in ROS Indigo.  The configuration data included in this package can now be found in the various support packages (i.e. motoman_[model]_support)\n",
      "WARNING:drake:/home/yinglong/Documents/research/task_motion_planning/infrastructure/motoman_ws/src/pracsys-motoman/motoman/motoman_config/updated_obj_urdf/motoman_dual.urdf:884: warning: In URI 'package://motoman_config/updated_obj_urdf/robotiq_85/collision/robotiq_arg2f_85_inner_finger.obj': Package \"motoman_config\" is deprecated: This package will be removed in ROS Indigo.  The configuration data included in this package can now be found in the various support packages (i.e. motoman_[model]_support)\n",
      "WARNING:drake:/home/yinglong/Documents/research/task_motion_planning/infrastructure/motoman_ws/src/pracsys-motoman/motoman/motoman_config/updated_obj_urdf/motoman_dual.urdf:926: warning: In URI 'package://motoman_config/updated_obj_urdf/robotiq_85/visual/robotiq_arg2f_85_inner_knuckle.obj': Package \"motoman_config\" is deprecated: This package will be removed in ROS Indigo.  The configuration data included in this package can now be found in the various support packages (i.e. motoman_[model]_support)\n",
      "WARNING:drake:/home/yinglong/Documents/research/task_motion_planning/infrastructure/motoman_ws/src/pracsys-motoman/motoman/motoman_config/updated_obj_urdf/motoman_dual.urdf:935: warning: In URI 'package://motoman_config/updated_obj_urdf/robotiq_85/collision/robotiq_arg2f_85_inner_knuckle.obj': Package \"motoman_config\" is deprecated: This package will be removed in ROS Indigo.  The configuration data included in this package can now be found in the various support packages (i.e. motoman_[model]_support)\n",
      "WARNING:drake:/home/yinglong/Documents/research/task_motion_planning/infrastructure/motoman_ws/src/pracsys-motoman/motoman/motoman_config/updated_obj_urdf/motoman_dual.urdf:1067: warning: Skipping transmission since it's attached to a fixed joint \"finger_joint\".\n"
     ]
    },
    {
     "name": "stdout",
     "output_type": "stream",
     "text": [
      "component name: \n",
      "table\n",
      "vid:  <GeometryId value=226>\n",
      "cid:  <GeometryId value=228>\n",
      "X_WorldB: \n",
      "RigidTransform(\n",
      "  R=RotationMatrix([\n",
      "    [1.0, 0.0, 0.0],\n",
      "    [0.0, 1.0, 0.0],\n",
      "    [0.0, 0.0, 1.0],\n",
      "  ]),\n",
      "  p=[-0.05, 0.0, 0.0],\n",
      ")\n",
      "workspace_pos:  [-0.05, 0, 0]\n",
      "number of collision geometries:  30\n"
     ]
    }
   ],
   "source": [
    "def initialize_simulation(diagram):\n",
    "    simulator = Simulator(diagram)\n",
    "    simulator.Initialize()\n",
    "    simulator.set_target_realtime_rate(1.)\n",
    "    return simulator\n",
    "\n",
    "def run_simulation(sim_time_step):\n",
    "    diagram, visualizer = create_scene(sim_time_step)\n",
    "    simulator = initialize_simulation(diagram)\n",
    "    visualizer.StartRecording()\n",
    "    simulator.AdvanceTo(1.0)\n",
    "    visualizer.PublishRecording()\n",
    "\n",
    "# Run the simulation with a small time step. Try gradually increasing it!\n",
    "run_simulation(sim_time_step=0.0001)"
   ]
  },
  {
   "cell_type": "code",
   "execution_count": null,
   "id": "44f0c59c",
   "metadata": {},
   "outputs": [],
   "source": []
  },
  {
   "cell_type": "code",
   "execution_count": null,
   "id": "8d851d95",
   "metadata": {},
   "outputs": [],
   "source": [
    "\n",
    "\n",
    "diagram_context = diagram.CreateDefaultContext()\n",
    "plant.SetFreeBodyPose(\n",
    "plant.GetMyContextFromRoot(diagram_context),\n",
    "plant.GetBodyByName(\"body\", block_as_model),\n",
    "X_WBlock)"
   ]
  }
 ],
 "metadata": {
  "kernelspec": {
   "display_name": "drake_env",
   "language": "python",
   "name": "drake_env"
  },
  "language_info": {
   "codemirror_mode": {
    "name": "ipython",
    "version": 3
   },
   "file_extension": ".py",
   "mimetype": "text/x-python",
   "name": "python",
   "nbconvert_exporter": "python",
   "pygments_lexer": "ipython3",
   "version": "3.8.10"
  }
 },
 "nbformat": 4,
 "nbformat_minor": 5
}
