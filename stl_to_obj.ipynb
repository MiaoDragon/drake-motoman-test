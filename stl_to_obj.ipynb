{
 "cells": [
  {
   "cell_type": "code",
   "execution_count": 4,
   "id": "d7e66550",
   "metadata": {},
   "outputs": [],
   "source": [
    "\"\"\"\n",
    "This is a simple tool to convert STL to OBJ file to use in Drake\n",
    "work:\n",
    "given a directory address, convert all STL files under it to OBJ files with the same filename\n",
    "\"\"\"\n",
    "\n",
    "import subprocess as sb\n",
    "import os\n",
    "# p = subprocess.run(\"cp\", \"dirA/file\", \"dirB\")\n",
    "from ipywidgets import IntProgress\n",
    "from IPython.display import display"
   ]
  },
  {
   "cell_type": "code",
   "execution_count": 6,
   "id": "b2e6017f",
   "metadata": {},
   "outputs": [],
   "source": [
    "\n",
    "def convert_stl_to_obj(dir_name):\n",
    "    files = os.listdir(dir_name)\n",
    "    # for each file, check if it's STL, and convert only if so\n",
    "\n",
    "    f = IntProgress(min=0, max=len(files)) # instantiate the bar\n",
    "    display(f) # display the bar\n",
    "    \n",
    "    for file in files:\n",
    "        ext = file.split('.')[-1]\n",
    "        name = file.split('.')[0]\n",
    "        if ext.lower() == 'stl':\n",
    "            # convert\n",
    "            new_file = name + '.obj'\n",
    "            sb.run(['ctmconv', os.path.join(dir_name, file), os.path.join(dir_name, new_file)])\n",
    "            f.value += 1\n",
    "    \n"
   ]
  },
  {
   "cell_type": "code",
   "execution_count": 35,
   "id": "de5ac2c0",
   "metadata": {},
   "outputs": [],
   "source": [
    "from stl2obj import Stl2Obj\n",
    "# import aspose.threed as a3d\n",
    "import trimesh\n",
    "def convert_stl_to_obj2(dir_name):\n",
    "    files = os.listdir(dir_name)\n",
    "    # for each file, check if it's STL, and convert only if so\n",
    "\n",
    "    f = IntProgress(min=0, max=len(files)) # instantiate the bar\n",
    "    display(f) # display the bar\n",
    "    callback = lambda code: print(code)    \n",
    "    for file in files:\n",
    "        ext = file.split('.')[-1]\n",
    "        name = file.split('.')[0]\n",
    "        if ext.lower() == 'stl':\n",
    "            # convert\n",
    "            new_file = name + '.obj'\n",
    "#             sb.run(['ctmconv', os.path.join(dir_name, file), os.path.join(dir_name, new_file)])\n",
    "#             Stl2Obj().convert(os.path.join(dir_name, file), os.path.join(dir_name, new_file),\n",
    "#                               callback)\n",
    "            print('name: ', file)\n",
    "#             scene = a3d.Scene.from_file(os.path.join(dir_name, file))\n",
    "#             scene.save(os.path.join(dir_name, new_file))\n",
    "            mesh = trimesh.load_mesh(os.path.join(dir_name, file))\n",
    "            trimesh.exchange.export.export_mesh(mesh, os.path.join(dir_name, new_file), file_type='obj')\n",
    "            \n",
    "            f.value += 1\n",
    "    \n",
    "\n"
   ]
  },
  {
   "cell_type": "code",
   "execution_count": 36,
   "id": "3ca68300",
   "metadata": {},
   "outputs": [
    {
     "data": {
      "application/vnd.jupyter.widget-view+json": {
       "model_id": "4b76da3cbb3d4e8893432a6801272473",
       "version_major": 2,
       "version_minor": 0
      },
      "text/plain": [
       "IntProgress(value=0, max=4)"
      ]
     },
     "metadata": {},
     "output_type": "display_data"
    },
    {
     "name": "stdout",
     "output_type": "stream",
     "text": [
      "name:  base_link.stl\n",
      "name:  suction_cup.stl\n"
     ]
    },
    {
     "data": {
      "application/vnd.jupyter.widget-view+json": {
       "model_id": "a125fc8e079e40569acd62424d4ab1fc",
       "version_major": 2,
       "version_minor": 0
      },
      "text/plain": [
       "IntProgress(value=0, max=4)"
      ]
     },
     "metadata": {},
     "output_type": "display_data"
    },
    {
     "name": "stdout",
     "output_type": "stream",
     "text": [
      "name:  base_link.stl\n",
      "name:  suction_cup.stl\n"
     ]
    },
    {
     "data": {
      "application/vnd.jupyter.widget-view+json": {
       "model_id": "b70d6f5f7a1c4c9cbbc0ac16b838ff2d",
       "version_major": 2,
       "version_minor": 0
      },
      "text/plain": [
       "IntProgress(value=0, max=12)"
      ]
     },
     "metadata": {},
     "output_type": "display_data"
    },
    {
     "name": "stdout",
     "output_type": "stream",
     "text": [
      "name:  robotiq_arg2f_85_base_link.stl\n",
      "name:  robotiq_arg2f_base_link.stl\n"
     ]
    },
    {
     "data": {
      "application/vnd.jupyter.widget-view+json": {
       "model_id": "caa1d6cf9ca148c4853085b3805133df",
       "version_major": 2,
       "version_minor": 0
      },
      "text/plain": [
       "IntProgress(value=0, max=14)"
      ]
     },
     "metadata": {},
     "output_type": "display_data"
    },
    {
     "name": "stderr",
     "output_type": "stream",
     "text": [
      "Data not utf-8! Trying ISO-8859-1 (confidence 0.73)\n"
     ]
    },
    {
     "name": "stdout",
     "output_type": "stream",
     "text": [
      "name:  robotiq_gripper_coupling.stl\n"
     ]
    },
    {
     "data": {
      "application/vnd.jupyter.widget-view+json": {
       "model_id": "e0c3c6910cf048b0944f93b744862751",
       "version_major": 2,
       "version_minor": 0
      },
      "text/plain": [
       "IntProgress(value=0, max=35)"
      ]
     },
     "metadata": {},
     "output_type": "display_data"
    },
    {
     "name": "stdout",
     "output_type": "stream",
     "text": [
      "name:  motoman_axis_b.stl\n",
      "name:  motoman_axis_b1_remeshed.stl\n",
      "name:  motoman_axis_s.stl\n",
      "name:  baxter_suction1.stl\n",
      "name:  modelO42.stl\n",
      "name:  motoman_axis_t.stl\n",
      "name:  vacuum_gripper.stl\n",
      "name:  motoman_axis_e.stl\n",
      "name:  vacuum_gripper_no_mouth.stl\n",
      "name:  motoman_axis_u.stl\n",
      "name:  baxter_suction2.stl\n",
      "name:  motoman_base.stl\n",
      "name:  motoman_axis_b_remeshed.stl\n",
      "name:  motoman_axis_r.stl\n",
      "name:  motoman_axis_l.stl\n",
      "name:  baxter_suction.stl\n",
      "name:  motoman_axis_b1.stl\n"
     ]
    },
    {
     "data": {
      "application/vnd.jupyter.widget-view+json": {
       "model_id": "75dfb419d947423c81efb918772f6b1f",
       "version_major": 2,
       "version_minor": 0
      },
      "text/plain": [
       "IntProgress(value=0, max=32)"
      ]
     },
     "metadata": {},
     "output_type": "display_data"
    },
    {
     "name": "stderr",
     "output_type": "stream",
     "text": [
      "face_normals all zero, ignoring!\n"
     ]
    },
    {
     "name": "stdout",
     "output_type": "stream",
     "text": [
      "name:  motoman_axis_b.stl\n",
      "name:  motoman_axis_s.stl\n"
     ]
    },
    {
     "name": "stderr",
     "output_type": "stream",
     "text": [
      "face_normals all zero, ignoring!\n",
      "face_normals all zero, ignoring!\n",
      "face_normals all zero, ignoring!\n"
     ]
    },
    {
     "name": "stdout",
     "output_type": "stream",
     "text": [
      "name:  baxter_suction1.stl\n",
      "name:  modelO42.stl\n",
      "name:  motoman_axis_t.stl\n",
      "name:  vacuum_gripper.stl\n",
      "name:  motoman_axis_e.stl\n",
      "name:  vacuum_gripper_no_mouth.stl\n"
     ]
    },
    {
     "name": "stderr",
     "output_type": "stream",
     "text": [
      "face_normals all zero, ignoring!\n"
     ]
    },
    {
     "name": "stdout",
     "output_type": "stream",
     "text": [
      "name:  motoman_axis_u.stl\n"
     ]
    },
    {
     "name": "stderr",
     "output_type": "stream",
     "text": [
      "face_normals all zero, ignoring!\n"
     ]
    },
    {
     "name": "stdout",
     "output_type": "stream",
     "text": [
      "name:  baxter_suction2.stl\n",
      "name:  motoman_base.stl\n",
      "name:  motoman_axis_r.stl\n"
     ]
    },
    {
     "name": "stderr",
     "output_type": "stream",
     "text": [
      "face_normals all zero, ignoring!\n"
     ]
    },
    {
     "name": "stdout",
     "output_type": "stream",
     "text": [
      "name:  motoman_axis_l.stl\n",
      "name:  tmp.stl\n",
      "name:  baxter_suction.stl\n",
      "name:  motoman_axis_b1.stl\n"
     ]
    }
   ],
   "source": [
    "base_dir_name = '/home/yinglong/Documents/research/task_motion_planning/infrastructure/motoman_ws/src/pracsys-motoman/motoman/motoman_config/updated_obj_urdf'\n",
    "for name1 in ['onrobot_vgc10', 'robotiq_85', 'sda10f_description/meshes/sda10f']:\n",
    "    for name2 in ['collision', 'visual']:\n",
    "        dir_name = os.path.join(base_dir_name, name1, name2)\n",
    "        convert_stl_to_obj2(dir_name)\n"
   ]
  },
  {
   "cell_type": "code",
   "execution_count": 28,
   "id": "f114c148",
   "metadata": {},
   "outputs": [],
   "source": [
    "# https://github.com/georgethrax/collada2obj\n",
    "from functools import reduce\n",
    "#coding:utf-8\n",
    "class Model(object):\n",
    "\tdef __init__(self,residues=[],args=None,style='strand'):\n",
    "\t\tself.v =[]\t#顶点\n",
    "\t\tself.vn = []\n",
    "\t\tself.vt = []\n",
    "\t\tself.f = []\t\n",
    "\tdef set_f(self, f):\n",
    "\t\tself.f = f\n",
    "\tdef exportObj(self, obj3d_path =''):\n",
    "\t\tobj_str = []\t\t\n",
    "\t\tobj_str = obj_str + list(map(lambda v:'v %.3f %.3f %.3f\\n' %tuple(v), self.v))\n",
    "\t\tobj_str = obj_str + list(map(lambda v:'vn %.3f %.3f %.3f\\n' %tuple(v), self.vn))\n",
    "\t\tobj_str = obj_str + list(map(lambda v:'vt %.3f %.3f %.3f\\n' %tuple(v), self.vt))\n",
    "\t\tif self.f:\n",
    "\t\t\tif len(self.f[0])==3:\n",
    "\t\t\t\t#f_str =  map(lambda f:'f ' + ' '.join(map(str,f)) +'\\n'+'usemtl %s\\n' %self.usemtl,self.f)\n",
    "\t\t\t\tf_str =  list(map(lambda f:'f ' + ' '.join(map(str,f)) +'\\n',self.f))\n",
    "\t\t\telif len(self.f[0])==6:\t\t\t\t\n",
    "\t\t\t\tf_str = list(map(lambda f:'f %d//%d %d//%d %d//%d\\n' %tuple(f), self.f))\n",
    "\t\t\t\t\n",
    "\t\t\t\t#obj_str = obj_str + map(lambda f:'f ' + ' '.join(map(str,f)) +'\\n',self.f)\n",
    "\t\t\tobj_str = obj_str + f_str\n",
    "\t\tself.obj_str = obj_str\n",
    "\t\tif obj3d_path:\n",
    "\t\t\topen(obj3d_path,'w').writelines(obj_str)\n",
    "\t\telse:\n",
    "\t\t\treturn obj_str\n",
    "\t\t\t\n",
    "\t@staticmethod\n",
    "\tdef reduce(ma,mb):\n",
    "\t\t# ma,mb -> mc\n",
    "\t\t# usage: mc = reduce(Model.reduce, model_list)\n",
    "\t\tmc = Model()\n",
    "\t\tmc.v = (ma.v+mb.v)\n",
    "\t\tmc.vn = (ma.vn+mb.vn)\n",
    "\t\tmc.vt = (ma.vt+mb.vt)\n",
    "\t\tnum_va = len(ma.v)\n",
    "\t\tnum_vna = len(ma.vn)\n",
    "\t\tnum_vta = len(ma.vt)\n",
    "\t\tf = mb.f\n",
    "\t\tif f:\n",
    "\t\t\tif len(f[0]) == 3:\n",
    "\t\t\t\t# 'f 1 2 3'\n",
    "\t\t\t\tf = map(lambda fi: [ x + num_va for x in fi], f)\n",
    "\t\t\telif len(f[0]) == 6:\n",
    "\t\t\t\t# 'f 1//1 2//2 3//3'\n",
    "\t\t\t\tfor fi in f:\n",
    "\t\t\t\t\t#f[::2] = f[::2] + num_va\n",
    "\t\t\t\t\tfi[::2] = [x + num_va for x in fi[::2]]\n",
    "\t\t\t\t\t#f[1::2] = f[1::2] + num_vn\n",
    "\t\t\t\t\tfi[1::2] = [x + num_vna for x in fi[1::2]]\n",
    "\t\t\telif len(f[0]) == 9:\n",
    "\t\t\t\t# 'f 1/1/1 2/2/2 3/3/3'\n",
    "\t\t\t\tfor fi in f:\n",
    "\t\t\t\t\t#f[::3] = f[::3] + num_va\n",
    "\t\t\t\t\tfi[::3] = [x + num_va for x in fi[::3]]\n",
    "\t\t\t\t\t#f[1::3] = f[1::3] + num_vt\n",
    "\t\t\t\t\tfi[1::3] = [x + num_vta for x in fi[1::3]]\n",
    "\t\t\t\t\t#f[2::3] = f[2::3] + num_vn\n",
    "\t\t\t\t\tfi[2::3] = [x + num_vna for x in fi[2::3]]\n",
    "\t\t\tmc.f = (ma.f + f)\t\t\t\n",
    "\t\t\t#mc.set_style(ma.style+mb.style)\n",
    "\t\treturn mc\n",
    "\t\n",
    "\n",
    "\n",
    "try:\n",
    "    import xml.etree.cElementTree as ET\n",
    "except ImportError:\n",
    "    import xml.etree.ElementTree as ET\n",
    "\n",
    "def dae_to_obj(dae_fname, obj_fname):\n",
    "    import sys\n",
    "    inputfilename = dae_fname\n",
    "    outputfilename = obj_fname\n",
    "    xmlns = \"{http://www.collada.org/2005/11/COLLADASchema}\"\n",
    "\n",
    "    #PARSE XML\n",
    "    # inputfilename: .dae file\n",
    "    # http://codingpy.com/article/parsing-xml-using-python/\n",
    "    tree = ET.ElementTree(file=inputfilename)\n",
    "    # methods:\n",
    "    #\ttree.find('asset2/up_axis')\n",
    "\n",
    "\n",
    "    #FIX xmlns problem\n",
    "    # http://stackoverflow.com/questions/13412496/python-elementtree-module-how-to-ignore-the-namespace-of-xml-files-to-locate-ma\n",
    "    for el in tree.iter():\n",
    "        if '}' in el.tag:\n",
    "            el.tag = el.tag.split('}', 1)[1]  # strip all namespaces\n",
    "\n",
    "\n",
    "    #Parse COLLADA\n",
    "    # http://blog.csdn.net/zhouhangjay/article/details/8469085\n",
    "    library_geometries = tree.find('library_geometries')\n",
    "    #from ribbon2objv8 import *\n",
    "\n",
    "    # geometry_0\n",
    "    meshes = tree.findall('library_geometries/geometry/mesh')\n",
    "\n",
    "    #from ribbon2objv8 import *\n",
    "    models = []\n",
    "\n",
    "    for mesh in meshes:\n",
    "        sources = mesh.findall('source')\n",
    "        vertices = mesh.find('vertices')\n",
    "        triangles = mesh.find('triangles')\n",
    "        triangles_p = triangles.find('p')\n",
    "        triangles_offset_dict = {}\n",
    "        source_id_dict = {}\n",
    "        for triangles_input in triangles.findall('input'):\n",
    "            triangles_offset_dict[triangles_input.attrib['semantic']] = int(triangles_input.attrib['offset'])\n",
    "            if triangles_input.attrib['semantic'] == 'VERTEX':\n",
    "                source_id_dict['VERTEX'] = vertices.find('input').attrib['source'][1:]\n",
    "            elif triangles_input.attrib['semantic'] == 'NORMAL':\n",
    "                source_id_dict['NORMAL'] = triangles_input.attrib['source'][1:]\t# 去除开头的'#'符号\n",
    "\n",
    "        source_float_dict = {}\n",
    "        for source in sources:\n",
    "            float_array = list(map(float, source.find('float_array').text.split()))\n",
    "            source_float_dict[source.attrib['id']] = list(map(lambda i:float_array[i:i+3], range(0,len(float_array),3)))\n",
    "\n",
    "        model = Model()\n",
    "\n",
    "        #model.set_v(source_float_dict[source_id_dict['VERTEX']])\n",
    "        model.v = source_float_dict[source_id_dict['VERTEX']]\n",
    "\n",
    "        #model.set_vn(source_float_dict[source_id_dict['NORMAL']])\n",
    "        model.vn = source_float_dict[source_id_dict['NORMAL']]\n",
    "\n",
    "        # f_list:[[v vn v vn v vn],[...]...]\n",
    "        p_text_str = triangles_p.text.split()\n",
    "        p_text = list(map(lambda idx:int(idx)+1, p_text_str))\n",
    "        obj_f = map(lambda i:p_text[i:i+len(triangles_offset_dict)*3],range(0,len(p_text),len(triangles_offset_dict)*3))\n",
    "        f_list = map(lambda f:[f[triangles_offset_dict['VERTEX']],f[triangles_offset_dict['NORMAL']],f[triangles_offset_dict['VERTEX']+len(triangles_offset_dict)],f[triangles_offset_dict['NORMAL']+len(triangles_offset_dict)],f[triangles_offset_dict['VERTEX']+len(triangles_offset_dict)*2],f[triangles_offset_dict['NORMAL']+len(triangles_offset_dict)*2]], obj_f)\n",
    "        model.set_f(list(f_list))\n",
    "\n",
    "        models.append(model)\n",
    "\n",
    "    model = reduce(Model.reduce, models)\n",
    "    #model.exportObj('dae2.obj')\n",
    "    model.exportObj(outputfilename)"
   ]
  },
  {
   "cell_type": "code",
   "execution_count": 29,
   "id": "d7ff6999",
   "metadata": {},
   "outputs": [],
   "source": [
    "\n",
    "def convert_dae_to_obj(dir_name):\n",
    "    files = os.listdir(dir_name)\n",
    "    # for each file, check if it's STL, and convert only if so\n",
    "\n",
    "    f = IntProgress(min=0, max=len(files)) # instantiate the bar\n",
    "    display(f) # display the bar\n",
    "    callback = lambda code: print(code)    \n",
    "    for file in files:\n",
    "        ext = file.split('.')[-1]\n",
    "        name = file.split('.')[0]\n",
    "        if ext.lower() == 'dae':\n",
    "            # convert\n",
    "            new_file = name + '.obj'\n",
    "#             sb.run(['ctmconv', os.path.join(dir_name, file), os.path.join(dir_name, new_file)])\n",
    "            dae_to_obj(os.path.join(dir_name, file), os.path.join(dir_name, new_file))\n",
    "            f.value += 1\n",
    "    \n",
    "\n"
   ]
  },
  {
   "cell_type": "code",
   "execution_count": 30,
   "id": "cd1aaade",
   "metadata": {},
   "outputs": [
    {
     "data": {
      "application/vnd.jupyter.widget-view+json": {
       "model_id": "a4cd58052853430ebc8be60ab0bdf2b6",
       "version_major": 2,
       "version_minor": 0
      },
      "text/plain": [
       "IntProgress(value=0, max=4)"
      ]
     },
     "metadata": {},
     "output_type": "display_data"
    },
    {
     "data": {
      "application/vnd.jupyter.widget-view+json": {
       "model_id": "aa790e70042a450ea846a87bba02e567",
       "version_major": 2,
       "version_minor": 0
      },
      "text/plain": [
       "IntProgress(value=0, max=4)"
      ]
     },
     "metadata": {},
     "output_type": "display_data"
    },
    {
     "data": {
      "application/vnd.jupyter.widget-view+json": {
       "model_id": "d8886d0b54fc4956b4dbedfd11615612",
       "version_major": 2,
       "version_minor": 0
      },
      "text/plain": [
       "IntProgress(value=0, max=12)"
      ]
     },
     "metadata": {},
     "output_type": "display_data"
    },
    {
     "data": {
      "application/vnd.jupyter.widget-view+json": {
       "model_id": "c2bb5462a6514d4392e3908ca74f4848",
       "version_major": 2,
       "version_minor": 0
      },
      "text/plain": [
       "IntProgress(value=0, max=8)"
      ]
     },
     "metadata": {},
     "output_type": "display_data"
    },
    {
     "data": {
      "application/vnd.jupyter.widget-view+json": {
       "model_id": "4b6bc3c4f8414a5989f959567f7ea081",
       "version_major": 2,
       "version_minor": 0
      },
      "text/plain": [
       "IntProgress(value=0, max=35)"
      ]
     },
     "metadata": {},
     "output_type": "display_data"
    },
    {
     "data": {
      "application/vnd.jupyter.widget-view+json": {
       "model_id": "968905a5a46e4704bdc80bd48a4e6d9c",
       "version_major": 2,
       "version_minor": 0
      },
      "text/plain": [
       "IntProgress(value=0, max=32)"
      ]
     },
     "metadata": {},
     "output_type": "display_data"
    }
   ],
   "source": [
    "base_dir_name = '/home/yinglong/Documents/research/task_motion_planning/infrastructure/motoman_ws/src/pracsys-motoman/motoman/motoman_config/updated_obj_urdf'\n",
    "for name1 in ['onrobot_vgc10', 'robotiq_85', 'sda10f_description/meshes/sda10f']:\n",
    "    for name2 in ['collision', 'visual']:\n",
    "        dir_name = os.path.join(base_dir_name, name1, name2)\n",
    "        convert_dae_to_obj(dir_name)\n"
   ]
  },
  {
   "cell_type": "code",
   "execution_count": null,
   "id": "057d9b95",
   "metadata": {},
   "outputs": [],
   "source": []
  }
 ],
 "metadata": {
  "kernelspec": {
   "display_name": "Python 3",
   "language": "python",
   "name": "python3"
  },
  "language_info": {
   "codemirror_mode": {
    "name": "ipython",
    "version": 3
   },
   "file_extension": ".py",
   "mimetype": "text/x-python",
   "name": "python",
   "nbconvert_exporter": "python",
   "pygments_lexer": "ipython3",
   "version": "3.8.10"
  }
 },
 "nbformat": 4,
 "nbformat_minor": 5
}
